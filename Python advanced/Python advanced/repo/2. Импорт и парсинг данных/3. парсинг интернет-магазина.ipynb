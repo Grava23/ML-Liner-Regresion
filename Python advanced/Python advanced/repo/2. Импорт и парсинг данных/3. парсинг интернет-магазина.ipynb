{
 "cells": [
  {
   "cell_type": "code",
   "execution_count": null,
   "metadata": {},
   "outputs": [],
   "source": [
    "import requests\n",
    "import pandas as pd\n",
    "from bs4 import BeautifulSoup\n",
    "#задаём User-Agent и указываем ссылку на сайт\n",
    "headers = {\"User-Agent\": \"ittensive-python-courses/1.0 (+https://www.ittensive.com/)\"}\n",
    "#получаем данные со странице, на которой находятся ссылки на странице холодильников\n",
    "r = requests.get(\"https://video.ittensive.com/data/018-python-advanced/beru.ru/\", headers = headers)\n",
    "#преобразуем их в объект\n",
    "html = BeautifulSoup(r.content)\n",
    "#print(html)\n",
    "#получаем все теги \"a\" с классом \"_3ioN70chUh Usp3kX1MNT _3Uc73lzxcf\", именно в них хранятся ссылки\n",
    "#на детальные страницы холодильников\n",
    "links = html.find_all(\"a\", {\"class\":  \"_3ioN70chUh Usp3kX1MNT _3Uc73lzxcf\"})\n",
    "#print(links)\n",
    "#перебираем это список  \n",
    "for link in links:\n",
    "    #если у нас в виде строкового значения появляется запись \"Саратов 263\"\n",
    "    #получаем данные из атрибута \"href\" этой ссылки, это путь к детальной странице холодильника\n",
    "    if str(link).find(\"Саратов 263\") > -1:\n",
    "        link_263 = link[\"href\"]\n",
    "    #аналогичную операцию проделываем с \"Саратов 452\"\n",
    "    if str(link).find(\"Саратов 452\") > -1:\n",
    "        link_452 = link[\"href\"]\n",
    "#создаём функцию которая на вход принимает атрибут \"href\"\n",
    "def volume_calculation(link):\n",
    "    #по нему выстраивает адрес для получения контента с этой странице\n",
    "    #детальной странице холодильника\n",
    "    r = requests.get(\"https://video.ittensive.com/data/018-python-advanced/beru.ru/\" + link)\n",
    "    #преобразуем эти данные в объект\n",
    "    html = BeautifulSoup(r.content)\n",
    "    #из этого объекта функция получает все данные которые имеют тег span\n",
    "    #c классом\"_112Tad-7AP\"\n",
    "    volume = html.find_all(\"span\", {\"class\": \"_112Tad-7AP\"})\n",
    "    #далее создаётся генератор, который в третьем элементе volume.get_text()\n",
    "    #(именно под этим индексом находится нужный нам объём)\n",
    "    #voluem c помощью метода get_text() приводим к строковому значению\n",
    "    #обходим volume[2].get_text() циклом и получаем все символы строки\n",
    "    #и если символ цифра, то мы его вернём\n",
    "    # с помощью ''.join объединяем эти символы, через пустую строку\n",
    "    #таким образом мы выделили все цифры из строки\n",
    "    return int(''.join(element for element in volume[2].get_text() if element.isdigit()))\n",
    "#если мы получаем ink_263 и link_452\n",
    "if link_263 and link_452:\n",
    "    #то мы передаём их в  качестве параметров в функцию volume_calculation()\n",
    "    volume_263 = volume_calculation(link_263)\n",
    "    volume_452 = volume_calculation(link_452)\n",
    "    #рассчитываем разницу между объёмами холодильников Саратов-263 и Сартов-452\n",
    "    #узнамём наибольшее и наименьшее из этих чисел\n",
    "    #далее из наибольшего отнимаем наименьшее\n",
    "    diff = max(volume_263, volume_452) - min(volume_263, volume_452)\n",
    "    #выводим ответ\n",
    "    print(diff)"
   ]
  }
 ],
 "metadata": {
  "kernelspec": {
   "display_name": "Python 3",
   "language": "python",
   "name": "python3"
  },
  "language_info": {
   "codemirror_mode": {
    "name": "ipython",
    "version": 3
   },
   "file_extension": ".py",
   "mimetype": "text/x-python",
   "name": "python",
   "nbconvert_exporter": "python",
   "pygments_lexer": "ipython3",
   "version": "3.8.5"
  }
 },
 "nbformat": 4,
 "nbformat_minor": 4
}
