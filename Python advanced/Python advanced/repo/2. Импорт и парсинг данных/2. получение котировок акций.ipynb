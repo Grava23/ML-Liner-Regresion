{
 "cells": [
  {
   "cell_type": "code",
   "execution_count": null,
   "metadata": {
    "scrolled": false
   },
   "outputs": [],
   "source": [
    "import requests\n",
    "import pandas as pd\n",
    "from bs4 import BeautifulSoup\n",
    "\n",
    "#Получаем данные со странице, по указанной ссылке\n",
    "r = requests.get(\"https://mfd.ru/marketdata/?id=5&group=16&mode=3&sortHeader=name&sortOrder=1&selectedDate=01.11.2019\")\n",
    "#преобразуем её в объект\n",
    "html = BeautifulSoup(r.content)\n",
    "#получаем данные из тега \"table\", id  у которого имеет значение \"marketDatalist\"\n",
    "table = html.find('table', {'id': 'marketDataList'})\n",
    "#создаём список где будем хранить данные строк\n",
    "rows = []\n",
    "#получаем все данные которые имеют тег 'tr' \n",
    "table_rows = table.find_all('tr')\n",
    "#обходим циклом полученные данные, из каждой строки (тега \"td\")\n",
    "#получаем содержимое в виде текста\n",
    "for table_row in table_rows:\n",
    "    #в строку (table_row), с помощью генератора осуществляем добавления текста \n",
    "    #из ячеек (table_data), table_data обалвяем данные из содержимого с тегом 'td'\n",
    "    #с помощью параметра strip=True убираем переносы строк и пробелы \n",
    "    table_row = [table_data.get_text(strip=True) for table_data in table_row.find_all('td')]\n",
    "    #если длина строки больше нуля\n",
    "    if len(table_row) > 0:\n",
    "        #мы в список строк, добавляем полученную нами из table_rows строку\n",
    "        rows.append(table_row)\n",
    "#создаём фрейм данных куда добавляем наш список \"rows\", присваиваем нудные нам имена для колонок\n",
    "data = pd.DataFrame(rows, columns=[\"Тикер\", \"Дата\", \"Сделки\", \"рост\", \"% сделок\", \"Цена-З.\",\"Цена-О.\", \"Мин\", \"Макс\", \"Ср\", \"шт\", \"руб\",\"Всего\"])\n",
    "#15)\tв созданный фрейм, из серии данных \"Сделки\" добавляем только те значения, которые не равны \"N/A\"\n",
    "data = data[data[\"Сделки\"] != \"N/A\"]\n",
    "#из столбца \"процент сделок\" все символы \"дефис\" заменяем на символ \"минус\"\n",
    "#так их наличие как они затрудняют сортировку\n",
    "#в получившихся строк знак процента и заменяем на пустое значения\n",
    "#полученные данные преобразуем к типу float\n",
    "data[\"% сделок\"] = data[\"% сделок\"].str.replace(\"−\", \"-\").str.replace(\"%\",\"\").astype(float)\n",
    "#в данном фрейме данных из столбца \"% сделок\" формируем индекс\n",
    "data = data.set_index(\"% сделок\")\n",
    "#сортируем данные по индексу, в порядке убывания (ascending=False) \n",
    "data = data.sort_index(ascending=False)\n",
    "#выводим первую позицию, из серии данных \"Тикер\", это и является ответом\n",
    "print(data[\"Тикер\"].head(1))\n",
    "    \n"
   ]
  }
 ],
 "metadata": {
  "kernelspec": {
   "display_name": "Python 3",
   "language": "python",
   "name": "python3"
  },
  "language_info": {
   "codemirror_mode": {
    "name": "ipython",
    "version": 3
   },
   "file_extension": ".py",
   "mimetype": "text/x-python",
   "name": "python",
   "nbconvert_exporter": "python",
   "pygments_lexer": "ipython3",
   "version": "3.8.5"
  }
 },
 "nbformat": 4,
 "nbformat_minor": 4
}
