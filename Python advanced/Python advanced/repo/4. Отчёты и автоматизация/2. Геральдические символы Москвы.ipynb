{
 "cells": [
  {
   "cell_type": "code",
   "execution_count": null,
   "metadata": {},
   "outputs": [],
   "source": [
    "#подключаем нужные библиотеки\n",
    "import pandas as pd\n",
    "import pdfkit\n",
    "#загружаем файл с данными\n",
    "data = pd.read_csv(\"https://video.ittensive.com/python-advanced/data-102743-2019-11-13.utf.csv\", delimiter=\";\")\n",
    "#формируем html документ, в заголовке указываем \"Геральдические символы Москвы\"\n",
    "#кодировка utf-8\n",
    "#после этого нам нужно добавить в документ, постраничный  вывод данных\n",
    "#выведем заголовки одного уровня, и зададим стили для всех кроме первого\n",
    "html = '''<html>\n",
    "<head>\n",
    "    <title>Геральдические символы Москвы</title>\n",
    "    <meta charset=\"utf-8\"/>\n",
    "</head>\n",
    "\n",
    "<body>'''\n",
    "#перебираем в цикле наш набор данных data.iterrows()\n",
    "for i, item in data.iterrows():\n",
    "    #только для первого элемента мы не будем задавать стиль\n",
    "    if i == 0:\n",
    "        html += '<h1>' + item['Name'] + '</h1>'\n",
    "    #для всех остальных задаём стили, и ставим разрыв страницы, после первого заголовка\n",
    "    #таким образом мы получим каждый геральдический символ с названием, на отдельной страницы\n",
    "    else:\n",
    "        html += '<h1 style=\"page-break-before:always\">' + item['Name'] + '</h1>'\n",
    "    #после заголовка который будет обеспечивать разрыв страницы, мы выведем изображения\n",
    "    #геральдического изображения, в увеличенном виде\n",
    "    #используем для этого атрибут style  и свойство width (ширина)\n",
    "    #сделаем отступ слева margin-left:10%\n",
    "    #источник изображения зададим через ссылку, в нужном формате\n",
    "    #возьмём исходный формат ссылки, и добавим к нему значение поля Picture\n",
    "    #из нашего кортежа данных\n",
    "    html += '''<p>\n",
    "        <img style=\"width:80%;margin-left:10%\"\n",
    "        src=\"https://op.mos.ru/MEDIA/showFile?id=''' + item['Picture'] + '''\">\n",
    "    </p>'''\n",
    "    #выводим описание символа, увеличиваем шрифт для читаемости с помощью font-size\n",
    "    #выведем свойство Description у нашего кортежа\n",
    "    html += '<p style=\"font-size:150%\">' + item['Description'] + '</p>'\n",
    "html += '</body></html>'\n",
    "#конфигурируем pdfkit стандартным образом, указав путь до бинарного файла\n",
    "config = pdfkit.configuration(wkhtmltopdf='E:/programs/wk_html_pdf/wkhtmltopdf/bin/wkhtmltopdf.exe')\n",
    "#зададим стандартные настройки: размер страницы, пагинацию (вывод страницы на каждой страницы)\n",
    "options = {\n",
    "    'page-size': 'A4',\n",
    "    'header-right': '[page]'\n",
    "}\n",
    "#сохраняем результат, в виде файла heraldic.pdf\n",
    "pdfkit.from_string(html, 'E:/ittensive/assets/heraldic.pdf',\n",
    "                    configuration=config, options=options)"
   ]
  }
 ],
 "metadata": {
  "interpreter": {
   "hash": "b73895567088a90acbaa21274948a7c2f710a2a995cabeb7f8e216c1d9d4195d"
  },
  "kernelspec": {
   "display_name": "Python 3.9.4 64-bit",
   "name": "python3"
  },
  "language_info": {
   "codemirror_mode": {
    "name": "ipython",
    "version": 3
   },
   "file_extension": ".py",
   "mimetype": "text/x-python",
   "name": "python",
   "nbconvert_exporter": "python",
   "pygments_lexer": "ipython3",
   "version": "3.9.4"
  }
 },
 "nbformat": 4,
 "nbformat_minor": 2
}
