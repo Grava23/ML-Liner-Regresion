{
 "cells": [
  {
   "cell_type": "code",
   "execution_count": null,
   "metadata": {},
   "outputs": [],
   "source": [
    "#подключаем библиотеку pandas \n",
    "import pandas as pd\n",
    "#получаем данные, и в качестве разделителя указываем точку с запятой\n",
    "data = pd.read_csv(\"https://video.ittensive.com/python-advanced/data-5283-2019-10-04.utf.csv\", delimiter=\";\")\n",
    "#в серии данных, в которой указано количестов звонков в месяц, в одном административном округе, \n",
    "# мы получаем среднее значение с помощью метода mean()\n",
    "answer = data[\"Calls\"].mean()\n",
    "#затем выводим его, как целое число\n",
    "print ('%.0f' % answer)"
   ]
  }
 ],
 "metadata": {
  "interpreter": {
   "hash": "8d86c190dfcadcdaa67edec4a1ea82702241987b5b1f320c920d3d4ca36fee5b"
  },
  "kernelspec": {
   "display_name": "Python 3.8.5 64-bit ('base': conda)",
   "name": "python3"
  },
  "language_info": {
   "codemirror_mode": {
    "name": "ipython",
    "version": 3
   },
   "file_extension": ".py",
   "mimetype": "text/x-python",
   "name": "python",
   "nbconvert_exporter": "python",
   "pygments_lexer": "ipython3",
   "version": "3.8.5"
  }
 },
 "nbformat": 4,
 "nbformat_minor": 2
}
