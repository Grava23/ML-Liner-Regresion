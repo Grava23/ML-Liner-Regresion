{
 "cells": [
  {
   "cell_type": "code",
   "execution_count": null,
   "metadata": {},
   "outputs": [],
   "source": [
    "import pandas as pd\n",
    "#получаем необходимые для нас данные о вызовах\n",
    "data_call = pd.read_csv(\"https://video.ittensive.com/python-advanced/data-5283-2019-10-04.utf.csv\", delimiter=\";\")\n",
    "#в данных вызовов пожарных по округам, в качестве индексов используем округа, год и месяц\n",
    "data_call = data_call.set_index([\"AdmArea\", \"Year\", \"Month\"])\n",
    "\n",
    "#в данных о работоспособности населения,  качестве индексов используем год и период\n",
    "data_work = pd.read_csv(\"https://video.ittensive.com/python-advanced/data-9753-2019-07-25.utf.csv\", delimiter=\";\")\n",
    "data_work = data_work.set_index([\"Year\", \"Period\"])\n",
    "#переименовываем индексы, на идентичные  как в данных о вызовах\n",
    "data_work.index.names = [\"Year\", \"Month\"]\n",
    "\n",
    "#выбираем все значения где в названии присутствует \"Центральный административный округу\"\n",
    "data_call = data_call.loc['Центральный административный округ']\n",
    "\n",
    "#объединяем два набора данных по левым и правым индексам \n",
    "data_all = pd.merge(data_work, data_call, left_index=True, right_index=True)\n",
    "#Отбрасываем текущий индекс\n",
    "data_all = data_all.reset_index()\n",
    "#назначаем новый индекс по числу вызовов \n",
    "data_all = data_all.set_index(\"Calls\")\n",
    "#сортируем данные по этому индексу\n",
    "data_all = data_all.sort_index()\n",
    "#выведем одно значение из серии \"UnemployedMen\", начиная с нулевого индекса\n",
    "print (data_all[\"UnemployedMen\"][0:1])"
   ]
  }
 ],
 "metadata": {
  "interpreter": {
   "hash": "8d86c190dfcadcdaa67edec4a1ea82702241987b5b1f320c920d3d4ca36fee5b"
  },
  "kernelspec": {
   "display_name": "Python 3.8.5 64-bit ('base': conda)",
   "name": "python3"
  },
  "language_info": {
   "codemirror_mode": {
    "name": "ipython",
    "version": 3
   },
   "file_extension": ".py",
   "mimetype": "text/x-python",
   "name": "python",
   "nbconvert_exporter": "python",
   "pygments_lexer": "ipython3",
   "version": "3.8.5"
  }
 },
 "nbformat": 4,
 "nbformat_minor": 4
}
