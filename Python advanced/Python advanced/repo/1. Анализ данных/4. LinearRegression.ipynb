{
 "cells": [
  {
   "cell_type": "code",
   "execution_count": null,
   "metadata": {},
   "outputs": [],
   "source": [
    "import pandas as pd\n",
    "import numpy as np\n",
    "from sklearn.linear_model import LinearRegression\n",
    "data = pd.read_csv(\"https://video.ittensive.com/python-advanced/data-9753-2019-07-25.utf.csv\", delimiter=\";\")\n",
    "#рассчитываем отношение в процентах\n",
    "data[\"Percent\"] = 100*data[\"UnemployedDisabled\"]/data[\"UnemployedTotal\"]\n",
    "#для фильтрации, выполняем группировку по году, используем метод фильтрации с лямбда функцией\n",
    "#которая принимает на вход группу данных\n",
    "#считаем число строк, которое вошло в группу данных x, и это число строк должно быть больше 5\n",
    "#то есть все годы в которых меньше шести записей мы отбрасываем, и не включаем их в статистику\n",
    "data_group = data.groupby(\"Year\").filter(lambda x: x[\"Percent\"].count() > 5)\n",
    "#так как фильтр возвращает не группу а сами данные, ещё раз группируем и находим среднее значение\n",
    "#согласно условию\n",
    "data_group = data_group.groupby(\"Year\").mean()\n",
    "\n",
    "#изменяем форму, и преобразуем данные  в двумерный массив\n",
    "x = np.array(data_group.index).reshape(len(data_group.index), 1)\n",
    "y = np.array(data_group[\"Percent\"]).reshape(len(data_group.index), 1)\n",
    "\n",
    "#загружаем модель линейной регрессии\n",
    "model = LinearRegression()\n",
    "#добалвяем в неё наши значения\n",
    "model.fit(x,y)\n",
    "#выводим график модели\n",
    "plt.plot(x, model.predict(x), color=\"blue\", linewidth=3)\n",
    "plt.show()\n",
    "\n",
    "#вычисляем значение для 2020г, делаем из него двумерный массив\n",
    "answer = np.round(model.predict(np.array(2020).reshape(1, 1)), 2)\n",
    "answer = answer[0][0]\n",
    "print('прогноз на 2020г', \"%.2f\" % answer)\n"
   ]
  }
 ],
 "metadata": {
  "kernelspec": {
   "display_name": "Python 3",
   "language": "python",
   "name": "python3"
  },
  "language_info": {
   "codemirror_mode": {
    "name": "ipython",
    "version": 3
   },
   "file_extension": ".py",
   "mimetype": "text/x-python",
   "name": "python",
   "nbconvert_exporter": "python",
   "pygments_lexer": "ipython3",
   "version": "3.8.5"
  }
 },
 "nbformat": 4,
 "nbformat_minor": 4
}
