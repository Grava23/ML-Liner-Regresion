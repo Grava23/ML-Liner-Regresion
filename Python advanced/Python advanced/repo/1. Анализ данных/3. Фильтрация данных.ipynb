{
 "cells": [
  {
   "cell_type": "code",
   "execution_count": null,
   "metadata": {},
   "outputs": [],
   "source": [
    "import pandas as pd\n",
    "\n",
    "data = pd.read_csv('https://video.ittensive.com/python-advanced/data-9753-2019-07-25.utf.csv', delimiter=\";\", na_values=\"NA\", decimal=\",\")\n",
    "# Узнаём чему равно 2 процента, и выбираем те значения которые больше двух\n",
    "data_UT_per = data[data.apply(lambda x: (100 * data[\"UnemployedDisabled\"] // data[\"UnemployedTotal\"])  < 2)] \n",
    "\n",
    "#в качестве индекса используем серию данных \"Year\"\n",
    "data_UD_2_per = data_UT_per.set_index(\"Year\")\n",
    "#сортируем данные по индексу\n",
    "data_UD_2_per = data_UD_2_per.sort_index()\n",
    "#выбираем все значения до первого, начиная с нулевого\n",
    "answer = data_UD_2_per.index[0:1]\n",
    "#выводим ответ\n",
    "print(\"%.0f\" % answer[0]) "
   ]
  }
 ],
 "metadata": {
  "kernelspec": {
   "display_name": "Python 3",
   "language": "python",
   "name": "python3"
  },
  "language_info": {
   "codemirror_mode": {
    "name": "ipython",
    "version": 3
   },
   "file_extension": ".py",
   "mimetype": "text/x-python",
   "name": "python",
   "nbconvert_exporter": "python",
   "pygments_lexer": "ipython3",
   "version": "3.8.5"
  }
 },
 "nbformat": 4,
 "nbformat_minor": 4
}
