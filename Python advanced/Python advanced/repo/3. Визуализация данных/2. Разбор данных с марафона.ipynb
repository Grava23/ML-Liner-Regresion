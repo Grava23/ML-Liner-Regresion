{
 "cells": [
  {
   "cell_type": "code",
   "execution_count": null,
   "metadata": {},
   "outputs": [],
   "source": [
    "#подключаем нужные нам библиотеки\n",
    "%matplotlib inline\n",
    "import matplotlib.pyplot as plt\n",
    "import seaborn as sns\n",
    "import pandas as pd\n",
    "import scipy.stats as stats\n",
    "#создаём функцию для конвертации времени в общее количество часов, минут и секунд       \n",
    "# функция будет принимать на вход строку, описывающую время и возвращать через генератор\n",
    "# перебирающий пары значений, число и его вес в секундах    \n",
    "# затем, мы возьмём сумму этих произведений чисел и их весов, и вернём из функции\n",
    "# значение чаосв, минут и секунд получим, разделив исходную строку времени по двоеточию      \n",
    "def convert_time(a):\n",
    "    return sum(x*int(t) for x,t in zip([3600, 60, 1], a.split(\":\")))\n",
    "#получаем нужные нам данные в качестве разделителя указываем запятую\n",
    "data = pd.read_csv(\"https://video.ittensive.com/python-advanced/marathon-data.csv\", delimiter=\",\")\n",
    "#применяем функцию для конвертации времени, к сериям данных \"split\" и \"final\"\n",
    "data[\"split\"] = data[\"split\"].apply(convert_time)\n",
    "data[\"final\"] = data[\"final\"].apply(convert_time)\n",
    "#построим парный график, чтобы посмотреть, какие данные с какими коррелируют \n",
    "#для групп, или категорий используем пол спортсменов, \n",
    "sns.pairplot(data, hue=\"gender\", height=4)\n",
    "plt.show()\n",
    "#строим корреляционный график jointplot(), для серий данных \"split\" и \"final\", и найдём коэффициент корреляции пирсона\n",
    "sns.jointplot(\"split\", \"final\", data, height=12, kind=\"kde\").annotate(stats.pearsonr)\n",
    "plt.show()\n",
    "#дополнительно выводим коэффицент пирсона, по двум сериям данных отдельно\n",
    "print (round(stats.pearsonr(data[\"split\"], data[\"final\"])[0], 2))"
   ]
  }
 ],
 "metadata": {
  "interpreter": {
   "hash": "b73895567088a90acbaa21274948a7c2f710a2a995cabeb7f8e216c1d9d4195d"
  },
  "kernelspec": {
   "display_name": "Python 3.9.4 64-bit",
   "name": "python3"
  },
  "language_info": {
   "codemirror_mode": {
    "name": "ipython",
    "version": 3
   },
   "file_extension": ".py",
   "mimetype": "text/x-python",
   "name": "python",
   "nbconvert_exporter": "python",
   "pygments_lexer": "ipython3",
   "version": "3.9.4"
  }
 },
 "nbformat": 4,
 "nbformat_minor": 2
}
