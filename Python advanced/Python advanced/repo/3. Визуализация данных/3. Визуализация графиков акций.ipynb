{
 "cells": [
  {
   "cell_type": "code",
   "execution_count": null,
   "metadata": {},
   "outputs": [],
   "source": [
    "#подключаем нужные нам библиотеки\n",
    "%matplotlib inline\n",
    "import pandas as pd\n",
    "import matplotlib.pyplot as plt\n",
    "#получаем необходимые данные\n",
    "data = pd.read_csv(\"https://video.ittensive.com/python-advanced/rts-index.csv\")\n",
    "#преобразуем строковые значения в серии данных \"Date\", к типу данных \"дата\" \n",
    "#указываем dayfirst=True, чтобы все даты корректно преобразовались из русского формата, в английский\n",
    "data[\"Date\"] = pd.to_datetime(data[\"Date\"], dayfirst=True)\n",
    "#выполняем сортировку данных, от минимального к максимального\n",
    "dates = pd.date_range(min(data[\"Date\"]), max(data[\"Date\"]))\n",
    "#в качестве индекса используем серию данных \"Date\"\n",
    "data = data.set_index(\"Date\")\n",
    "#переиндексируем все данные, заполним пустые даты предыдущими значениями\n",
    "#это понадобиться нам для сравнения данных по годам, чтобы в каждый день года\n",
    "#у нас было хотя бы одно значение\n",
    "data = data.reindex(dates).ffill()\n",
    "#добавим ещё одну серию данных, \"день года\" для подписи по осям x\n",
    "data[\"Day\"] = pd.to_datetime(data.index).dayofyear\n",
    "#назначаем название индекса, которое потерялось при переиндексации данных\n",
    "data.index.name = \"Date\"\n",
    "#сортируем по индексу, чтобы развернуть данные в правильном хронологическом порядке\n",
    "data = data.sort_index()\n",
    "#для данных за 2019 год создадим отдельный набор, чтобы в последствии искать искомую\n",
    "#дату превышения, как пересечение его с набором за 2017 год\n",
    "data_2019 = data[\"2019\"].reset_index().set_index(\"Day\")\n",
    "#аналогичным образом и создадим набор данных и для 2017 года,\n",
    "#для него сразу возьмём экспоненциальное среднее, со сдвигом 20 от значение максимума\n",
    "data_2017 = data[\"2017\"].reset_index().set_index(\"Day\")[\"Max\"].ewm(span=20).mean()\n",
    "#создаём наш холст, размером 12 на 8\n",
    "fig = plt.figure(figsize=(12,8))\n",
    "#добавляем на него 1 столбец, 1 строка, 1 подобласть\n",
    "area = fig.add_subplot(1, 1, 1)\n",
    "#наносим данные на область area, с названием \"2019\" цвет красный, толщина 3 \n",
    "data_2019[\"Close\"].plot(ax=area, color=\"red\", label=\"2019\", lw=3)\n",
    "#наносим обычные данные за 2017 год в виде оранжевой линии.\n",
    "data_2017.plot(ax=area, color=\"orange\", label=\"Exp.2017\", lw=3)\n",
    "#переопределяем индекс, и назначаем в качестве индекса серию данных \"Close\"\n",
    "data[\"2017\"].reset_index().set_index(\"Day\")[\"Close\"].plot.area(ax=area, color=\".5\", label=\"2017\")\n",
    "#а также за 2018 год, виде ещё одной линии\n",
    "data[\"2018\"].reset_index().set_index(\"Day\")[\"Close\"].plot(ax=area, color=\"blue\", label=\"2018\", lw=3)\n",
    "#добавляем легенду\n",
    "plt.legend()\n",
    "plt.show()\n",
    "#находим дату, когда показатели индекса РТС, превзошли показатели за 2017 год\n",
    "#фильтруем данные за 2019 год, когда \"Close\" (закрытие дня), было больше максимума \n",
    "# аналогичного дня за 2017 год  \n",
    "data_fall = data_2019[data_2019[\"Close\"] < data_2017[0:len(data_2019)]]\n",
    "#выставляем индекс по дате\n",
    "data_fall.set_index(\"Date\", inplace=True)\n",
    "#отсортируем по индексу\n",
    "data_fall = data_fall.sort_index(ascending=False)\n",
    "#выведем первое значение, то есть последнюю дату, когда дневной максимум в 2017 году\n",
    "#был больше закрытия, в соответствующим дне 2019 года\n",
    "print (data_fall.head(1).index)"
   ]
  }
 ],
 "metadata": {
  "interpreter": {
   "hash": "b73895567088a90acbaa21274948a7c2f710a2a995cabeb7f8e216c1d9d4195d"
  },
  "kernelspec": {
   "display_name": "Python 3.9.4 64-bit",
   "name": "python3"
  },
  "language_info": {
   "codemirror_mode": {
    "name": "ipython",
    "version": 3
   },
   "file_extension": ".py",
   "mimetype": "text/x-python",
   "name": "python",
   "nbconvert_exporter": "python",
   "pygments_lexer": "ipython3",
   "version": "3.9.4"
  }
 },
 "nbformat": 4,
 "nbformat_minor": 2
}
