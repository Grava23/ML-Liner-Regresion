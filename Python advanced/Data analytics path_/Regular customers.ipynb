{
 "cells": [
  {
   "cell_type": "markdown",
   "metadata": {},
   "source": [
    "Описание таблицы orders:\n",
    "* user_id (string) - уникальный идентификатор пользователя\n",
    "* order_id (string) - уникальный идентификатор заказа\n",
    "* order_time (Int64) - время сделанного заказа в unixtime (секундны, UTC)\n",
    "* order_cost (float) - стоимость заказа\n",
    "* success_order_flg (bool) - идентификатор, определяющий был ли заказ успешно доставлен. Выполненный заказ - это заказ у которого в данной таблице success_order_flg=True\n",
    "\n",
    "Пользователь считается привлеченным в день date, если он совершает первый заказ в день date.\n",
    "\n",
    "Пользователь считается реактивированным в день date, если он совершает заказ в день date, при этом не совершил ни одного заказа в течении предшествующих 90 дней, но совершал хотя бы 1 заказ за свою пользовательскую историю ранее."
   ]
  },
  {
   "cell_type": "markdown",
   "metadata": {},
   "source": [
    "На выходе требуется получить таблицу:\n",
    "\n",
    "* date - календарная дата привлечения или реактивации\n",
    "* gmv360d_new - общая стоимость заказов за 360 дней после дня date, совершенных пользователями, привлеченными в день date\n",
    "* gmv360d_reactivated - общая стоимость заказов за 360 дней после дня date, совершенных пользователями, реактивированными в день date\n",
    "* users_count_new - кол-во пользователей, привлеченных в день date\n",
    "* users_count_reactivated- кол-во пользователей, реактивированных в день date"
   ]
  },
  {
   "cell_type": "markdown",
   "metadata": {},
   "source": [
    "Заказы, совершенные пользователем после очередной реактивации, не должны учитываться в расчете GMV для предыдущих периодов активности пользователя. Т.е., например, если пользователь пришел в день 0, совершал заказы по день 30, не совершал заказов до дня 130 и совершил заказ в день 130, его заказы в дни 130-490 должны учитываться только в gmv360d_reactivated для дня 130, но не в gmv360d_new дня 0.\n",
    "\n",
    "То же правило распространяется на повторные реактивации пользователя. То есть если у рассмотренного нами пользователя на 230-й день жизни снова произошла реактивация, то gmv360d_reactivated будет посчитано для предыдущего периода за дни 130-229, а для итогового, с реактивацией на 230-й день, это поле будет рассчитано за дни 230-590.\n",
    "\n",
    "Сколько пользователей было реактивировано 20 марта 2020 года?\n",
    "\n"
   ]
  },
  {
   "cell_type": "markdown",
   "metadata": {},
   "source": [
    "###### 1. получаем данные, библиотеки, создаём функции для получения суммы заказов за год, а также привлечённых и активированных пользователей в конретные даты"
   ]
  },
  {
   "cell_type": "code",
   "execution_count": 1,
   "metadata": {},
   "outputs": [],
   "source": [
    "import datetime\n",
    "import pandas as pd\n",
    "data = pd.read_csv('E:/ittensive/Data analytics path/Data processing tasks/2022-04-22.dataset.csv',  delimiter=\";\")"
   ]
  },
  {
   "cell_type": "code",
   "execution_count": 2,
   "metadata": {},
   "outputs": [],
   "source": [
    "#функция получает срез фрейма между датами x и y,\n",
    "def number_of_users(df, x, y):\n",
    "    z = df[(df['date_of_attraction'] >= x) & (df['date_of_attraction'] <= y)]\n",
    "    #а затем возращет количество пользователей по user_id\n",
    "    count = df['user_id'].count()\n",
    "    return count\n",
    "\n",
    "#функция получения суммы между пероидами\n",
    "#получает на вход фрейм данных, начальную и конечную дату\n",
    "def sum_cost(df,x,y):\n",
    "    #из этого фрейма беруться все данные, между начальной и конечной датой\n",
    "    z = df[(df['date_of_attraction'] >= x) & (df['date_of_attraction'] <= y)]\n",
    "    #получаем из этого фрейма сумму зачений с ценнами заказов\n",
    "    sum_ = z['order_cost'].sum()\n",
    "    return sum_\n",
    "\n",
    "#функция создания списка занчений общих стоимостей заказов за 360 дней\n",
    "#на вход нужно передать Dataframe, а также номера столбцов с начальной и конечной датой\n",
    "def iterrows(df, fisrt, second):\n",
    "    #создаём список сумм стоимостей заказов за 360 дней\n",
    "    list_oredrs = []\n",
    "    #получаем все строки нашего фрейма\n",
    "    for row in df.itertuples():\n",
    "        #берём значения из нужных нам колонок\n",
    "        x = row[fisrt]\n",
    "        y = row[second]\n",
    "        #получаем значения из функции sum_cost()\n",
    "        sum_ = sum_cost(df, x, y)\n",
    "        #возвращаем итоговый список\n",
    "        list_oredrs.append(sum_)\n",
    "    return list_oredrs"
   ]
  },
  {
   "cell_type": "code",
   "execution_count": 4,
   "metadata": {},
   "outputs": [],
   "source": [
    "#функция возращает количетсво пользователей в конкретную дату\n",
    "#(дата является индексом в полученом фрейме, сгруппированном по дате, и реализовавшим метод \"count()\")\n",
    "def count_users(df, x):\n",
    "    count = df.loc[x][0]\n",
    "    return count\n",
    "\n",
    "#функция подсчёта пользователей на вход получает фрейм в котором нужно подсчитать пользователей, \n",
    "#и номер столбца в котором храниться user_id\n",
    "def iterrows_users(df, number):\n",
    "    #создаём список для формирования серии данных users_count_new\n",
    "    list_users = []\n",
    "    #получаем все строки фрейма\n",
    "    for row in df.itertuples():\n",
    "        #берём значения строки нужного нам столбца\n",
    "        x = row[number]\n",
    "        #передаём в функцию count_users дату и сгруппированный по дате фрейм,\n",
    "        #и получаем количество пользователей привлечённых в этот день\n",
    "        count = count_users(data_calling_user, x)\n",
    "        list_users.append(count)\n",
    "    return list_users\n",
    "\n",
    "#функция получает на вход user_id\n",
    "def date_reactivation_user(user):\n",
    "    #получает по нему все данные из нашего основого фрейма данных\n",
    "    frame = data.loc[(data['user_id'] == user)]\n",
    "    #отсортируем их ро дате\n",
    "    frame.sort_values(\"order_time\")\n",
    "    #убираем первый заказ этого пользователя \n",
    "    frame = frame.iloc [1: , :]\n",
    "    #остоавляем только те заказы разница между которыми больше 89 дней, 23 часа, 59 минут, 59 секунд (7775999 секунд)\n",
    "    frame =  frame[frame['order_time_diff'] > 7775999]\n",
    "    return frame"
   ]
  },
  {
   "cell_type": "code",
   "execution_count": 48,
   "metadata": {},
   "outputs": [],
   "source": [
    "#эта функция предназначенна для того, чтобы после объединения фреймов, \n",
    "#заполнить данными из фрейма  о реактивации, фрейм о привлечении клиентов, и наоборот\n",
    "#на вход получает дату, и DateFrame из которого брать данные для заполнения\n",
    "def count_users_rows(date, dataframe):\n",
    "    user_new = 0.0\n",
    "    user_reactivated = 0.0\n",
    "    coust_new = 0\n",
    "    coust_reactvidet = 0\n",
    "    #получаем данные по конкретной дате\n",
    "    dataframe  = dataframe.loc[dataframe['date'] == date]\n",
    "    #если количетство привлечённых или реактиврованных пользователей\n",
    "    #в каком-то из заказов больше нуля, этим значениям функция зполняет все остальные ячейки\n",
    "    #этой серии данных в эту дату\n",
    "    for row in dataframe.itertuples():\n",
    "        if row[2] > 0:\n",
    "            coust_new = row[2]\n",
    "        if row[2] > 0:\n",
    "            user_new += 1 \n",
    "        if row[4] > 0:\n",
    "            coust_reactvidet = row[4]\n",
    "        if row[5] > 0:\n",
    "            user_reactivated  = row[5]\n",
    "    #меняем значения в нашем конеченом фрейме данных из которого мы будем брать ответ\n",
    "    df_concat.loc[(df_concat['date'] == date), 'users_count_new'] = user_new\n",
    "    df_concat.loc[(df_concat['date'] == date), 'users_count_reactivated'] = user_reactivated\n",
    "    df_concat.loc[(df_concat['date'] == date), 'gmv360d_new'] = coust_new\n",
    "    df_concat.loc[(df_concat['date'] == date), 'gmv360d_reactivated'] = coust_reactvidet"
   ]
  },
  {
   "cell_type": "markdown",
   "metadata": {},
   "source": [
    "###### 2. Оставляем только данные об успешных заказах, сортируем их по пользователям и по дате, создаём серию данных с разницей во времени между заказами"
   ]
  },
  {
   "cell_type": "code",
   "execution_count": 6,
   "metadata": {},
   "outputs": [],
   "source": [
    "data = data[data['success_order_flg'] == 1]\n",
    "data.sort_values([\"user_id\", \"order_time\"], inplace=True)\n",
    "data[\"order_time_diff\"] = data[\"order_time\"].diff()"
   ]
  },
  {
   "cell_type": "code",
   "execution_count": 7,
   "metadata": {},
   "outputs": [],
   "source": [
    "#создаём серию данных, которая равна date + один год\n",
    "data['gmv360d'] = data[\"order_time\"] + 31104000\n"
   ]
  },
  {
   "cell_type": "code",
   "execution_count": 8,
   "metadata": {},
   "outputs": [],
   "source": [
    "#так же нам понадобяться результаты суммы при группировки фрейма \"по пользователям\"\n",
    "data_calling_cost = data.groupby(\"user_id\").sum()"
   ]
  },
  {
   "cell_type": "markdown",
   "metadata": {},
   "source": [
    "### Дата привлечения"
   ]
  },
  {
   "cell_type": "markdown",
   "metadata": {},
   "source": [
    "###### 3.  Создаём новый DataFrame выпонляя группировку предыдущего \"по пользователю\" , выбирая минималные значения, это позволит нам взять данные для \"первых дат\" в которые пользователи совершали заказ, то есть получить данные в даты привлечения"
   ]
  },
  {
   "cell_type": "code",
   "execution_count": 9,
   "metadata": {},
   "outputs": [],
   "source": [
    "data_calling = data.groupby(\"user_id\").min()\n",
    "data_calling = pd.DataFrame({\"user_id\": data_calling.index, \"date_of_attraction\": data_calling[\"order_time\"],\n",
    "                            'order_cost': data_calling_cost['order_cost'], 'gmv360d': data_calling['gmv360d']})\n",
    "data_calling.reset_index(drop= True , inplace= True )\n"
   ]
  },
  {
   "cell_type": "code",
   "execution_count": 10,
   "metadata": {},
   "outputs": [],
   "source": [
    "#получаем общую стоимость заказов за 360 дней после дня date, совершенных пользователями, привлеченными в день date\n",
    "ex = iterrows(data_calling, 2, 4)\n",
    "data_calling['gmv360d_new'] = ex"
   ]
  },
  {
   "cell_type": "code",
   "execution_count": 11,
   "metadata": {},
   "outputs": [],
   "source": [
    "#преобразуем время из секунд UTC, в дату\n",
    "data_calling['date_of_attraction'] = data_calling['date_of_attraction'].apply(lambda n: pd.to_datetime(n, unit='s'))\n",
    "data_calling['date_of_attraction'] = pd.to_datetime(data_calling['date_of_attraction']).dt.date"
   ]
  },
  {
   "cell_type": "code",
   "execution_count": 12,
   "metadata": {},
   "outputs": [],
   "source": [
    "#для того, чтобы узнать количество привелчённых пользователей в конретные даты, \n",
    "#нам нужно сгрупировать Фрейм по датам привлечения\n",
    "data_calling_user = data_calling.groupby(\"date_of_attraction\").count()"
   ]
  },
  {
   "cell_type": "code",
   "execution_count": 13,
   "metadata": {},
   "outputs": [],
   "source": [
    "#удаляем ненужную нам в дальнейшем серию данных \n",
    "data_calling.drop('gmv360d', axis = 1, inplace = True)"
   ]
  },
  {
   "cell_type": "code",
   "execution_count": 14,
   "metadata": {},
   "outputs": [],
   "source": [
    "#создаём серрию данных -  \"кол-во пользователей, привлеченных в день date\"\n",
    "count = iterrows_users(data_calling, 2)\n",
    "data_calling['users_count_new'] = count"
   ]
  },
  {
   "cell_type": "code",
   "execution_count": 15,
   "metadata": {},
   "outputs": [],
   "source": [
    "#удалякм вторую не нужную нам серию данных\n",
    "data_calling.drop('order_cost', axis = 1, inplace = True)"
   ]
  },
  {
   "cell_type": "markdown",
   "metadata": {},
   "source": [
    "### Дата реактивации"
   ]
  },
  {
   "cell_type": "markdown",
   "metadata": {},
   "source": [
    "###### 4. Для получения даты реактивации отбираем только те значения у которых с даты предыдщуго заказа прошло больше 90 дней "
   ]
  },
  {
   "cell_type": "code",
   "execution_count": 16,
   "metadata": {},
   "outputs": [],
   "source": [
    "#берём первую строку фрейма нащих данных, чтобы получить структуру фрейма \n",
    "\n",
    "dataframe = data.head(1)\n",
    "#проходим список всех привлечённых пользователей\n",
    "for user in data_calling['user_id']:\n",
    "    #получаем его данные о реактивированных заказах если они есть\n",
    "    user = date_reactivation_user(user)\n",
    "    #создаём DataFrame из таких срезов\n",
    "    dataframe = dataframe.append(user)\n",
    "#удаляем первую строку, так как там данные \"нереактивированного\" заказа\n",
    "data_reactivation = dataframe.dropna()\n",
    "#создаём нужную нам структуру без лишних серий данных\n",
    "data_reactivation = pd.DataFrame({\"user_id\": data_reactivation['user_id'], \"date_reactivation\": data_reactivation[\"order_time\"],\n",
    "                                  'order_cost': data_reactivation['order_cost'], 'gmv360d':data_reactivation['gmv360d']})"
   ]
  },
  {
   "cell_type": "markdown",
   "metadata": {},
   "source": [
    "###### 5. получаем общую стоимость заказов за 360 дней после дня date, совершенных пользователями, реактивированными в день date"
   ]
  },
  {
   "cell_type": "code",
   "execution_count": null,
   "metadata": {},
   "outputs": [],
   "source": [
    "#адптируем функцию sum_cost() под даные о реактивации\n",
    "def sum_cost(df,x,y):\n",
    "    z = df[(df['date_reactivation'] >= x) & (df['date_reactivation'] <= y)]\n",
    "    sum_ = z['order_cost'].sum()\n",
    "    return sum_\n",
    "#получаем суммы заказов за года\n",
    "ex = iterrows(data_reactivation, 2, 4)\n",
    "data_reactivation['gmv360d_reactivated'] = ex\n",
    "del ex"
   ]
  },
  {
   "cell_type": "code",
   "execution_count": 19,
   "metadata": {},
   "outputs": [],
   "source": [
    "#переводим время из секунд UTC в дату\n",
    "data_reactivation['date_reactivation'] = data_reactivation['date_reactivation'].apply(lambda n: pd.to_datetime(n ,unit='s'))\n",
    "data_reactivation['date_reactivation'] = pd.to_datetime(data_reactivation['date_reactivation']).dt.date"
   ]
  },
  {
   "cell_type": "code",
   "execution_count": 20,
   "metadata": {},
   "outputs": [],
   "source": [
    "#группируем фрейм по дате, для получения количество реактиврованных пользователей в каждую дату\n",
    "data_reactivation_user = data_reactivation.groupby(\"date_reactivation\").count()"
   ]
  },
  {
   "cell_type": "code",
   "execution_count": 21,
   "metadata": {},
   "outputs": [],
   "source": [
    "#удаляем больше ненужную среию данных\n",
    "data_reactivation.drop('gmv360d', axis = 1, inplace = True)"
   ]
  },
  {
   "cell_type": "code",
   "execution_count": 22,
   "metadata": {},
   "outputs": [],
   "source": [
    "#iterrows_users адаптируем функцию для данных о реактивации\n",
    "\n",
    "def iterrows_users(df, number):\n",
    "    list_users = []\n",
    "    for row in df.itertuples():\n",
    "        x = row[number]\n",
    "        count = count_users(data_reactivation_user, x)\n",
    "        list_users.append(count)\n",
    "    return list_users"
   ]
  },
  {
   "cell_type": "code",
   "execution_count": 23,
   "metadata": {},
   "outputs": [],
   "source": [
    "#получаем количество реактивированных пользователей для каждого дня\n",
    "count = iterrows_users(data_reactivation, 2)\n",
    "data_reactivation['users_count_reactivated'] = count"
   ]
  },
  {
   "cell_type": "code",
   "execution_count": 24,
   "metadata": {},
   "outputs": [],
   "source": [
    "#удаляем ненужныую серию данных\n",
    "data_reactivation.drop('order_cost', axis = 1, inplace = True)"
   ]
  },
  {
   "cell_type": "markdown",
   "metadata": {},
   "source": [
    "## Объединение фреймов\n",
    "\n",
    "##### 1. изменям структуры Фреймов Данных для того, чтобы их было удобно объеденить"
   ]
  },
  {
   "cell_type": "code",
   "execution_count": 25,
   "metadata": {},
   "outputs": [],
   "source": [
    "data_reactivation = pd.DataFrame({\"user_id\": data_reactivation['user_id'], \"date\": data_reactivation[\"date_reactivation\"],\n",
    "                                  'gmv360d_reactivated': data_reactivation['gmv360d_reactivated'], \n",
    "                                  'users_count_reactivated': data_reactivation['users_count_reactivated']})\n",
    "data_calling = pd.DataFrame({\"user_id\": data_calling['user_id'], \"date\": data_calling[\"date_of_attraction\"],\n",
    "                                  'gmv360d_new': data_calling['gmv360d_new'], \n",
    "                                  'users_count_new': data_calling['users_count_new']})"
   ]
  },
  {
   "cell_type": "code",
   "execution_count": 26,
   "metadata": {},
   "outputs": [],
   "source": [
    "#Назанчаем индексы по котроым будем объденять\n",
    "data_reactivation = data_reactivation.set_index(['user_id', 'date'])\n",
    "data_calling = data_calling.set_index(['user_id', 'date'])"
   ]
  },
  {
   "cell_type": "markdown",
   "metadata": {},
   "source": [
    "###### 2. Объединяем фреймы"
   ]
  },
  {
   "cell_type": "code",
   "execution_count": 27,
   "metadata": {},
   "outputs": [],
   "source": [
    "df_concat = pd.concat([ data_calling, data_reactivation],axis=1)"
   ]
  },
  {
   "cell_type": "code",
   "execution_count": 28,
   "metadata": {},
   "outputs": [],
   "source": [
    "#заполняем отсутствующие значения нулями\n",
    "df_concat.fillna(0, inplace = True)"
   ]
  },
  {
   "cell_type": "code",
   "execution_count": 29,
   "metadata": {},
   "outputs": [],
   "source": [
    "#Сбрасываем идексы, чтобы можно было отсортировать данные по дате\n",
    "df_concat = df_concat.reset_index()\n",
    "df_concat.sort_values([ \"date\", 'user_id'], inplace=True)\n",
    "df_concat.set_index('user_id', inplace = True)"
   ]
  },
  {
   "cell_type": "code",
   "execution_count": 30,
   "metadata": {},
   "outputs": [],
   "source": [
    "#осществляем заполнения строк данных фрейма привлечения, данными из фрейма реатктивации\n",
    "x = df_concat.groupby(\"date\").count()\n",
    "index = x.index"
   ]
  },
  {
   "cell_type": "code",
   "execution_count": 49,
   "metadata": {},
   "outputs": [],
   "source": [
    "for date in index:\n",
    "    count_users_rows(date, df_concat)"
   ]
  },
  {
   "cell_type": "code",
   "execution_count": 33,
   "metadata": {},
   "outputs": [],
   "source": [
    "del data_calling\n",
    "del data_reactivation"
   ]
  },
  {
   "cell_type": "code",
   "execution_count": 50,
   "metadata": {},
   "outputs": [],
   "source": [
    "answer = df_concat.loc[df_concat['date'] == '2020-03-20']\n",
    "answer_new = answer['users_count_new'].head(1).values[0]\n",
    "answer_reactiv = answer['users_count_reactivated'].head(1).values[0]"
   ]
  },
  {
   "cell_type": "code",
   "execution_count": 51,
   "metadata": {},
   "outputs": [
    {
     "name": "stdout",
     "output_type": "stream",
     "text": [
      "количество привлечеённых пользователей 2020-03-20: 5.0 \n",
      "количество реактивированных пользователей 2020-03-20: 0.0\n"
     ]
    }
   ],
   "source": [
    "print(f'количество привлечеённых пользователей 2020-03-20: {answer_new} ')\n",
    "print(f'количество реактивированных пользователей 2020-03-20: {answer_reactiv}')"
   ]
  },
  {
   "cell_type": "markdown",
   "metadata": {},
   "source": [
    "###### Все данные за 2020-03-20"
   ]
  },
  {
   "cell_type": "code",
   "execution_count": 52,
   "metadata": {},
   "outputs": [
    {
     "data": {
      "text/html": [
       "<div>\n",
       "<style scoped>\n",
       "    .dataframe tbody tr th:only-of-type {\n",
       "        vertical-align: middle;\n",
       "    }\n",
       "\n",
       "    .dataframe tbody tr th {\n",
       "        vertical-align: top;\n",
       "    }\n",
       "\n",
       "    .dataframe thead th {\n",
       "        text-align: right;\n",
       "    }\n",
       "</style>\n",
       "<table border=\"1\" class=\"dataframe\">\n",
       "  <thead>\n",
       "    <tr style=\"text-align: right;\">\n",
       "      <th></th>\n",
       "      <th>date</th>\n",
       "      <th>gmv360d_new</th>\n",
       "      <th>users_count_new</th>\n",
       "      <th>gmv360d_reactivated</th>\n",
       "      <th>users_count_reactivated</th>\n",
       "    </tr>\n",
       "    <tr>\n",
       "      <th>user_id</th>\n",
       "      <th></th>\n",
       "      <th></th>\n",
       "      <th></th>\n",
       "      <th></th>\n",
       "      <th></th>\n",
       "    </tr>\n",
       "  </thead>\n",
       "  <tbody>\n",
       "    <tr>\n",
       "      <th>26123607</th>\n",
       "      <td>2020-03-20</td>\n",
       "      <td>1.643711e+06</td>\n",
       "      <td>5.0</td>\n",
       "      <td>0.0</td>\n",
       "      <td>0.0</td>\n",
       "    </tr>\n",
       "    <tr>\n",
       "      <th>26576706</th>\n",
       "      <td>2020-03-20</td>\n",
       "      <td>1.643711e+06</td>\n",
       "      <td>5.0</td>\n",
       "      <td>0.0</td>\n",
       "      <td>0.0</td>\n",
       "    </tr>\n",
       "    <tr>\n",
       "      <th>30073680</th>\n",
       "      <td>2020-03-20</td>\n",
       "      <td>1.643711e+06</td>\n",
       "      <td>5.0</td>\n",
       "      <td>0.0</td>\n",
       "      <td>0.0</td>\n",
       "    </tr>\n",
       "    <tr>\n",
       "      <th>37559799</th>\n",
       "      <td>2020-03-20</td>\n",
       "      <td>1.643711e+06</td>\n",
       "      <td>5.0</td>\n",
       "      <td>0.0</td>\n",
       "      <td>0.0</td>\n",
       "    </tr>\n",
       "    <tr>\n",
       "      <th>40731603</th>\n",
       "      <td>2020-03-20</td>\n",
       "      <td>1.643711e+06</td>\n",
       "      <td>5.0</td>\n",
       "      <td>0.0</td>\n",
       "      <td>0.0</td>\n",
       "    </tr>\n",
       "  </tbody>\n",
       "</table>\n",
       "</div>"
      ],
      "text/plain": [
       "               date   gmv360d_new  users_count_new  gmv360d_reactivated  \\\n",
       "user_id                                                                   \n",
       "26123607 2020-03-20  1.643711e+06              5.0                  0.0   \n",
       "26576706 2020-03-20  1.643711e+06              5.0                  0.0   \n",
       "30073680 2020-03-20  1.643711e+06              5.0                  0.0   \n",
       "37559799 2020-03-20  1.643711e+06              5.0                  0.0   \n",
       "40731603 2020-03-20  1.643711e+06              5.0                  0.0   \n",
       "\n",
       "          users_count_reactivated  \n",
       "user_id                            \n",
       "26123607                      0.0  \n",
       "26576706                      0.0  \n",
       "30073680                      0.0  \n",
       "37559799                      0.0  \n",
       "40731603                      0.0  "
      ]
     },
     "execution_count": 52,
     "metadata": {},
     "output_type": "execute_result"
    }
   ],
   "source": [
    "answer "
   ]
  },
  {
   "cell_type": "markdown",
   "metadata": {},
   "source": [
    "### Пример даты когда есть и привлчённые пользователи, и реактивированные"
   ]
  },
  {
   "cell_type": "code",
   "execution_count": 53,
   "metadata": {},
   "outputs": [
    {
     "data": {
      "text/html": [
       "<div>\n",
       "<style scoped>\n",
       "    .dataframe tbody tr th:only-of-type {\n",
       "        vertical-align: middle;\n",
       "    }\n",
       "\n",
       "    .dataframe tbody tr th {\n",
       "        vertical-align: top;\n",
       "    }\n",
       "\n",
       "    .dataframe thead th {\n",
       "        text-align: right;\n",
       "    }\n",
       "</style>\n",
       "<table border=\"1\" class=\"dataframe\">\n",
       "  <thead>\n",
       "    <tr style=\"text-align: right;\">\n",
       "      <th></th>\n",
       "      <th>date</th>\n",
       "      <th>gmv360d_new</th>\n",
       "      <th>users_count_new</th>\n",
       "      <th>gmv360d_reactivated</th>\n",
       "      <th>users_count_reactivated</th>\n",
       "    </tr>\n",
       "    <tr>\n",
       "      <th>user_id</th>\n",
       "      <th></th>\n",
       "      <th></th>\n",
       "      <th></th>\n",
       "      <th></th>\n",
       "      <th></th>\n",
       "    </tr>\n",
       "  </thead>\n",
       "  <tbody>\n",
       "    <tr>\n",
       "      <th>3458258</th>\n",
       "      <td>2020-04-20</td>\n",
       "      <td>681081.9551</td>\n",
       "      <td>2.0</td>\n",
       "      <td>3.247235e+06</td>\n",
       "      <td>14.0</td>\n",
       "    </tr>\n",
       "    <tr>\n",
       "      <th>4547859</th>\n",
       "      <td>2020-04-20</td>\n",
       "      <td>681081.9551</td>\n",
       "      <td>2.0</td>\n",
       "      <td>3.247235e+06</td>\n",
       "      <td>14.0</td>\n",
       "    </tr>\n",
       "    <tr>\n",
       "      <th>5745786</th>\n",
       "      <td>2020-04-20</td>\n",
       "      <td>681081.9551</td>\n",
       "      <td>2.0</td>\n",
       "      <td>3.247235e+06</td>\n",
       "      <td>14.0</td>\n",
       "    </tr>\n",
       "    <tr>\n",
       "      <th>11218662</th>\n",
       "      <td>2020-04-20</td>\n",
       "      <td>681081.9551</td>\n",
       "      <td>2.0</td>\n",
       "      <td>3.247235e+06</td>\n",
       "      <td>14.0</td>\n",
       "    </tr>\n",
       "    <tr>\n",
       "      <th>17474183</th>\n",
       "      <td>2020-04-20</td>\n",
       "      <td>681081.9551</td>\n",
       "      <td>2.0</td>\n",
       "      <td>3.247235e+06</td>\n",
       "      <td>14.0</td>\n",
       "    </tr>\n",
       "    <tr>\n",
       "      <th>29325807</th>\n",
       "      <td>2020-04-20</td>\n",
       "      <td>681081.9551</td>\n",
       "      <td>2.0</td>\n",
       "      <td>3.247235e+06</td>\n",
       "      <td>14.0</td>\n",
       "    </tr>\n",
       "    <tr>\n",
       "      <th>32441502</th>\n",
       "      <td>2020-04-20</td>\n",
       "      <td>681081.9551</td>\n",
       "      <td>2.0</td>\n",
       "      <td>3.247235e+06</td>\n",
       "      <td>14.0</td>\n",
       "    </tr>\n",
       "    <tr>\n",
       "      <th>32455188</th>\n",
       "      <td>2020-04-20</td>\n",
       "      <td>681081.9551</td>\n",
       "      <td>2.0</td>\n",
       "      <td>3.247235e+06</td>\n",
       "      <td>14.0</td>\n",
       "    </tr>\n",
       "    <tr>\n",
       "      <th>32845962</th>\n",
       "      <td>2020-04-20</td>\n",
       "      <td>681081.9551</td>\n",
       "      <td>2.0</td>\n",
       "      <td>3.247235e+06</td>\n",
       "      <td>14.0</td>\n",
       "    </tr>\n",
       "    <tr>\n",
       "      <th>35240322</th>\n",
       "      <td>2020-04-20</td>\n",
       "      <td>681081.9551</td>\n",
       "      <td>2.0</td>\n",
       "      <td>3.247235e+06</td>\n",
       "      <td>14.0</td>\n",
       "    </tr>\n",
       "    <tr>\n",
       "      <th>35531062</th>\n",
       "      <td>2020-04-20</td>\n",
       "      <td>681081.9551</td>\n",
       "      <td>2.0</td>\n",
       "      <td>3.247235e+06</td>\n",
       "      <td>14.0</td>\n",
       "    </tr>\n",
       "    <tr>\n",
       "      <th>36395412</th>\n",
       "      <td>2020-04-20</td>\n",
       "      <td>681081.9551</td>\n",
       "      <td>2.0</td>\n",
       "      <td>3.247235e+06</td>\n",
       "      <td>14.0</td>\n",
       "    </tr>\n",
       "    <tr>\n",
       "      <th>36410835</th>\n",
       "      <td>2020-04-20</td>\n",
       "      <td>681081.9551</td>\n",
       "      <td>2.0</td>\n",
       "      <td>3.247235e+06</td>\n",
       "      <td>14.0</td>\n",
       "    </tr>\n",
       "    <tr>\n",
       "      <th>37976079</th>\n",
       "      <td>2020-04-20</td>\n",
       "      <td>681081.9551</td>\n",
       "      <td>2.0</td>\n",
       "      <td>3.247235e+06</td>\n",
       "      <td>14.0</td>\n",
       "    </tr>\n",
       "    <tr>\n",
       "      <th>37989720</th>\n",
       "      <td>2020-04-20</td>\n",
       "      <td>681081.9551</td>\n",
       "      <td>2.0</td>\n",
       "      <td>3.247235e+06</td>\n",
       "      <td>14.0</td>\n",
       "    </tr>\n",
       "    <tr>\n",
       "      <th>38745567</th>\n",
       "      <td>2020-04-20</td>\n",
       "      <td>681081.9551</td>\n",
       "      <td>2.0</td>\n",
       "      <td>3.247235e+06</td>\n",
       "      <td>14.0</td>\n",
       "    </tr>\n",
       "  </tbody>\n",
       "</table>\n",
       "</div>"
      ],
      "text/plain": [
       "               date  gmv360d_new  users_count_new  gmv360d_reactivated  \\\n",
       "user_id                                                                  \n",
       "3458258  2020-04-20  681081.9551              2.0         3.247235e+06   \n",
       "4547859  2020-04-20  681081.9551              2.0         3.247235e+06   \n",
       "5745786  2020-04-20  681081.9551              2.0         3.247235e+06   \n",
       "11218662 2020-04-20  681081.9551              2.0         3.247235e+06   \n",
       "17474183 2020-04-20  681081.9551              2.0         3.247235e+06   \n",
       "29325807 2020-04-20  681081.9551              2.0         3.247235e+06   \n",
       "32441502 2020-04-20  681081.9551              2.0         3.247235e+06   \n",
       "32455188 2020-04-20  681081.9551              2.0         3.247235e+06   \n",
       "32845962 2020-04-20  681081.9551              2.0         3.247235e+06   \n",
       "35240322 2020-04-20  681081.9551              2.0         3.247235e+06   \n",
       "35531062 2020-04-20  681081.9551              2.0         3.247235e+06   \n",
       "36395412 2020-04-20  681081.9551              2.0         3.247235e+06   \n",
       "36410835 2020-04-20  681081.9551              2.0         3.247235e+06   \n",
       "37976079 2020-04-20  681081.9551              2.0         3.247235e+06   \n",
       "37989720 2020-04-20  681081.9551              2.0         3.247235e+06   \n",
       "38745567 2020-04-20  681081.9551              2.0         3.247235e+06   \n",
       "\n",
       "          users_count_reactivated  \n",
       "user_id                            \n",
       "3458258                      14.0  \n",
       "4547859                      14.0  \n",
       "5745786                      14.0  \n",
       "11218662                     14.0  \n",
       "17474183                     14.0  \n",
       "29325807                     14.0  \n",
       "32441502                     14.0  \n",
       "32455188                     14.0  \n",
       "32845962                     14.0  \n",
       "35240322                     14.0  \n",
       "35531062                     14.0  \n",
       "36395412                     14.0  \n",
       "36410835                     14.0  \n",
       "37976079                     14.0  \n",
       "37989720                     14.0  \n",
       "38745567                     14.0  "
      ]
     },
     "execution_count": 53,
     "metadata": {},
     "output_type": "execute_result"
    }
   ],
   "source": [
    "df_concat.loc[df_concat['date'] == '2020-04-20']"
   ]
  }
 ],
 "metadata": {
  "kernelspec": {
   "display_name": "Python 3",
   "language": "python",
   "name": "python3"
  },
  "language_info": {
   "codemirror_mode": {
    "name": "ipython",
    "version": 3
   },
   "file_extension": ".py",
   "mimetype": "text/x-python",
   "name": "python",
   "nbconvert_exporter": "python",
   "pygments_lexer": "ipython3",
   "version": "3.8.5"
  }
 },
 "nbformat": 4,
 "nbformat_minor": 4
}
