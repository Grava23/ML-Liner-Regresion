{
 "cells": [
  {
   "cell_type": "markdown",
   "metadata": {},
   "source": [
    "# Кондратий-столяр\n",
    "## 1. \n",
    "Метровую ленту случайным образом разрезают ножницами. Найти вероятность того, что длина обрезка составит не менее 80 см.\n",
    "\n",
    "\n",
    "Благоприятствующие событию участки: от 0 до 20см, и от 80 до 100см"
   ]
  },
  {
   "cell_type": "code",
   "execution_count": 3,
   "metadata": {},
   "outputs": [
    {
     "name": "stdout",
     "output_type": "stream",
     "text": [
      "вероятность того, что длина обрезка составит не менее 80 см: 0.4\n"
     ]
    }
   ],
   "source": [
    "L = 100 \n",
    "l = 20 + 20\n",
    "P = l / L\n",
    "print('вероятность того, что длина обрезка составит не менее 80 см:', P)\n"
   ]
  },
  {
   "cell_type": "markdown",
   "metadata": {},
   "source": [
    "## 2. \n",
    "\n",
    "После бури на участке между 40-м и 70-м километрами телефонной линии произошёл обрыв провода. Какова вероятность того, что он произошёл между 50-м и 55-м километрами линии?"
   ]
  },
  {
   "cell_type": "code",
   "execution_count": 6,
   "metadata": {},
   "outputs": [
    {
     "name": "stdout",
     "output_type": "stream",
     "text": [
      "вероятность того, что обрыв произошёл между 50-м и 55-м километрами линии: 0.167\n"
     ]
    }
   ],
   "source": [
    "L = 70 - 40\n",
    "l = 55 - 50\n",
    "P = l / L\n",
    "print('вероятность того, что обрыв произошёл между 50-м и 55-м километрами линии:', float('{:.3f}'.format(P)))"
   ]
  },
  {
   "cell_type": "markdown",
   "metadata": {},
   "source": [
    "## 3.\n",
    "\n",
    "В треугольник со сторонами a=9, b=13, c=6 вписан круг. Точка произвольно ставится в треугольник. Найти вероятность того, что точка попадёт в круг."
   ]
  },
  {
   "cell_type": "code",
   "execution_count": 43,
   "metadata": {},
   "outputs": [
    {
     "name": "stdout",
     "output_type": "stream",
     "text": [
      "вероятность того, что точка попадёт в круг: 0.51\n"
     ]
    }
   ],
   "source": [
    "import math\n",
    "p = (9 + 13 + 16) / 2\n",
    "S = p * (p - 9) * ( p - 13) * (p - 16) \n",
    "S = S ** 0.5\n",
    "S_k = math.pi * (S / p) ** 2\n",
    "P = S_k / S\n",
    "print('вероятность того, что точка попадёт в круг:', float('{:.2f}'.format(P)))"
   ]
  },
  {
   "cell_type": "markdown",
   "metadata": {},
   "source": [
    "## 4.\n",
    "\n",
    "В круге радиуса 10 см находится прямоугольный треугольник с катетами 12 и 7 см. В круг наудачу ставится точка. Найти вероятность того, что она не попадёт в данный треугольник."
   ]
  },
  {
   "cell_type": "code",
   "execution_count": 46,
   "metadata": {},
   "outputs": [
    {
     "name": "stdout",
     "output_type": "stream",
     "text": [
      "вероятность того, что точка не попадёт в данный треугольник: 0.87\n"
     ]
    }
   ],
   "source": [
    "S_k = math.pi * 10 ** 2\n",
    "S_t = 0.5 * 12 * 7\n",
    "P = 1 - (S_t / S_k)\n",
    "print('вероятность того, что точка не попадёт в данный треугольник:', float('{:.2f}'.format(P)))"
   ]
  },
  {
   "cell_type": "markdown",
   "metadata": {},
   "source": [
    "## 5.\n",
    "\n",
    "Две грузовые машины могут подойти на погрузку в промежуток времени от 19.00 до 20.30. Погрузка первой машины длится 10 минут, второй – 15 минут. Какова вероятность того, что одной машине придется ждать окончания погрузки другой?"
   ]
  },
  {
   "cell_type": "code",
   "execution_count": 49,
   "metadata": {},
   "outputs": [
    {
     "name": "stdout",
     "output_type": "stream",
     "text": [
      "вероятность того, что точка не попадёт в данный треугольник: 0.26\n"
     ]
    }
   ],
   "source": [
    "S_square = 90 * 90\n",
    "S_2_triangle = 0.5 * 80 * 80 + 0.5 * 75 * 75\n",
    "S = S_square - S_2_triangle\n",
    "P = S / S_square\n",
    "print('вероятность того, что одной машине придется ждать окончания погрузки другой:', float('{:.2f}'.format(P)))"
   ]
  },
  {
   "cell_type": "markdown",
   "metadata": {},
   "source": [
    "## 6.\n",
    "\n",
    "В квадрат с вершинами (0;0), (0;1), (1;0), (1;1) наудачу брошена точка (x,y). Найдите вероятность того, что координаты этой точки удовлетворяют неравенству y<2x."
   ]
  },
  {
   "cell_type": "code",
   "execution_count": 64,
   "metadata": {},
   "outputs": [
    {
     "data": {
      "image/png": "[encoded data removed]",
      "text/plain": [
       "<Figure size 432x288 with 1 Axes>"
      ]
     },
     "metadata": {
      "needs_background": "light"
     },
     "output_type": "display_data"
    }
   ],
   "source": [
    "import numpy as np\n",
    "%matplotlib inline\n",
    "import matplotlib.pyplot as plt \n",
    "\n",
    "x = []\n",
    "y = []\n",
    "ten = []\n",
    "for number in range(0,11):\n",
    "    x.append(number)\n",
    "    number = 2 * number\n",
    "    y.append(number)\n",
    "    ten.append(10)\n",
    "plt.plot(x, y)\n",
    "plt.plot(x, ten)\n",
    "plt.show()"
   ]
  },
  {
   "cell_type": "markdown",
   "metadata": {},
   "source": [
    "Изучив фигуру 10 на 10, можно сделать вывод что y < 2x соответсвтует примерно 75 процентов площади этой фигуры"
   ]
  },
  {
   "cell_type": "markdown",
   "metadata": {},
   "source": [
    "# Двадцать одно"
   ]
  },
  {
   "cell_type": "markdown",
   "metadata": {},
   "source": [
    "## 7.\n",
    "Игра в покер ведется колодой в 36 карт. Рассчитайте вероятность выигрышных комбинаций.\n",
    "Чему равна вероятность набрать фул-хаус (три карты одного ранга плюс пара) в покере при раздаче 5 карт (колода 36 карт)?\n",
    "\n",
    "в колоде 9 рангов (6,7,8,9,10, волет, дама, король, туз)\n",
    "* первые три карты одинакового ранга можно вытащить 9 способами \n",
    "* Есть 4 способа выбрать 3 карты из 4 (масти в колоде 4)\n",
    "* После этого пару можно выбрать 8, спсобами, так как 2 одинаковые карты уже заняты в 3 картах одного ранга\n",
    "* 2 карты из 4 можно выбрать 6 способами:\n",
    "* 1,2 = 2,1\n",
    "* 1,3 = 3,1\n",
    "* 1,4 = 4,1\n",
    "* 2,3 = 2,3\n",
    "* 2,4 = 2,4\n",
    "* 3,4 = 4,3\n"
   ]
  },
  {
   "cell_type": "code",
   "execution_count": 7,
   "metadata": {},
   "outputs": [],
   "source": [
    "import numpy as np\n",
    "\n",
    "#Функция для расчёта сочетания\n",
    "def combination(n,m):\n",
    "    n_f = np.math.factorial(n)\n",
    "    m_f = np.math.factorial(m)\n",
    "    return n_f / (m_f*np.math.factorial(n - m))"
   ]
  },
  {
   "cell_type": "code",
   "execution_count": 252,
   "metadata": {},
   "outputs": [],
   "source": [
    "# Считаем количество всех возможных способов достать карты \n",
    "C = int(combination(36,5))"
   ]
  },
  {
   "cell_type": "code",
   "execution_count": 73,
   "metadata": {},
   "outputs": [
    {
     "name": "stdout",
     "output_type": "stream",
     "text": [
      "вероятность набрать фул-хаус (колода 36 карт): 0.0046\n"
     ]
    }
   ],
   "source": [
    "#Количество благоприятных для нас исходов\n",
    "K = 9 * 4 * 8 *6\n",
    "#Делим количество благоприятных исходов, на общее колчиество\n",
    "P = K/C\n",
    "print('вероятность набрать фул-хаус (колода 36 карт):', float('{:.4f}'.format(P)))"
   ]
  },
  {
   "cell_type": "markdown",
   "metadata": {},
   "source": [
    "## 8.\n",
    "\n",
    "Шанс получить пару карт одного ранга при раздаче 5 карт (колода 36 карт) в покере равен?\n",
    "\n",
    "* Пар в колоде из 36 карт всего 18\n",
    "* Две карты одного ранга из колоды можно получить C(36,2) способами\n",
    "* Пару из вытащинных пяти карт можно С(5,2) способами "
   ]
  },
  {
   "cell_type": "code",
   "execution_count": 240,
   "metadata": {},
   "outputs": [
    {
     "name": "stdout",
     "output_type": "stream",
     "text": [
      "вероятность получить пару карт одного ранга (колода 36 карт): 0.3\n"
     ]
    }
   ],
   "source": [
    "P = int(combination(36, 2)) * 18 * 10 / C \n",
    "print('вероятность получить пару карт одного ранга (колода 36 карт):', float('{:.2f}'.format(P)))"
   ]
  },
  {
   "cell_type": "markdown",
   "metadata": {},
   "source": [
    "## 9.\n",
    "\n",
    "Какой шанс флеш (пять карт одной масти в любом порядке) при раздаче 5 карт (колода 36 карт)?"
   ]
  },
  {
   "cell_type": "code",
   "execution_count": 242,
   "metadata": {},
   "outputs": [
    {
     "name": "stdout",
     "output_type": "stream",
     "text": [
      "вероятность получить флеш (колода 36 карт): 0.0013\n"
     ]
    }
   ],
   "source": [
    "P = 4 * int(combination(9, 5)) / C\n",
    "print('вероятность получить флеш (колода 36 карт):', float('{:.4f}'.format(P)))"
   ]
  },
  {
   "cell_type": "markdown",
   "metadata": {},
   "source": [
    "## 10.\n",
    "\n",
    "Вероятность собрать стрит (5 последовательных карт любых мастей) при раздаче 5 карт (колода 36 карт) равна:\n",
    "\n",
    "* 1) 6 7 8 9 10 \n",
    "* 2) 7 8 9 10 в\n",
    "* 3) 8 9 10 в д \n",
    "* 4) 9 10 в д к\n",
    "* 5) 10 в д к т\n",
    " \n",
    "* 6) т к д в 10\n",
    "* 7) к д в 10 9\n",
    "* 8) д в 10 9 8\n",
    "* 9) в 10 9 8 7 \n",
    "* 10) 10 9 8 7 6\n",
    "\n",
    "10 варинатов, когда 5 карт могут быть последовательны и 4 масти, C(10,4) = 210\n",
    "\n",
    "В 5 взятых картах, карты могут быть как последовательны от большего к меньшему, так и наоборот\n"
   ]
  },
  {
   "cell_type": "code",
   "execution_count": 265,
   "metadata": {},
   "outputs": [
    {
     "name": "stdout",
     "output_type": "stream",
     "text": [
      "вероятность собрать стрит (колода 36 карт): 0.014\n"
     ]
    }
   ],
   "source": [
    "P = 210 * 5 * 5 / C\n",
    "print('вероятность собрать стрит (колода 36 карт):', float('{:.3f}'.format(P)))"
   ]
  },
  {
   "cell_type": "markdown",
   "metadata": {},
   "source": [
    "## 11.\n",
    "\n",
    "В сколько случаях из 1000 можно будет собрать две пары карт одинакового ранга при раздаче 5 карт (колода 36 карт) в покере?"
   ]
  },
  {
   "cell_type": "markdown",
   "metadata": {},
   "source": [
    "# Таня и детали"
   ]
  },
  {
   "cell_type": "markdown",
   "metadata": {},
   "source": [
    "## 12.\n",
    "Устройство состоит из 1000 элементов, работающих независимо один от другого. Вероятность отказа любого элемента в течении времени Т равна 0,002. Найти вероятность того, что за время Т откажут ровно три элемента.\n",
    "\n",
    "\\begin{equation}\n",
    "P(K) =  {λ^k \\over k!}*e^{-λ} \n",
    "\\end{equation} \n",
    " λ = n * p обозначает среднее число появлений события в n испытаниях.\n",
    "\n"
   ]
  },
  {
   "cell_type": "code",
   "execution_count": 30,
   "metadata": {},
   "outputs": [
    {
     "name": "stdout",
     "output_type": "stream",
     "text": [
      "вероятность того, что за время Т откажут ровно три элемента: 0.18\n"
     ]
    }
   ],
   "source": [
    "import math\n",
    "import numpy as np\n",
    "n = 1000 #всего элементов\n",
    "p = 0.002 # вероятность отказа\n",
    "t = 3 #количество элементов которые откажут\n",
    "λ = n * p \n",
    "P_1000_3 = ((λ ** t) / np.math.factorial(t)) * math.e ** (-λ)\n",
    "print('вероятность того, что за время Т откажут ровно три элемента:', float('{:.3f}'.format(P_1000_3)))"
   ]
  },
  {
   "cell_type": "markdown",
   "metadata": {},
   "source": [
    "## 13.\n",
    "\n",
    "Завод отправил на базу 500 изделий. Вероятность повреждения изделия в пути 0,004. Найти вероятность того, что в пути повреждено меньше трех изделий.\n",
    "\n",
    "\\begin{equation}\n",
    "P = {P500}^0 + {P500}^1 + {P500}^2 \n",
    "\\end{equation} "
   ]
  },
  {
   "cell_type": "code",
   "execution_count": 22,
   "metadata": {},
   "outputs": [
    {
     "name": "stdout",
     "output_type": "stream",
     "text": [
      "вероятность того, что в пути повреждено меньше трех изделий: 0.68\n"
     ]
    }
   ],
   "source": [
    "n = 500 #всего элементов\n",
    "p = 0.004 # вероятность отказа\n",
    "t = 3 #количество элементов которые откажут\n",
    "λ = n * p \n",
    "P = 0\n",
    "for term in range(0,3):\n",
    "    P_term = ((λ ** term) / np.math.factorial(term)) * math.e ** (-λ)\n",
    "    P = P +  P_term\n",
    "print('вероятность того, что в пути повреждено меньше трех изделий:', float('{:.2f}'.format(P)))"
   ]
  },
  {
   "cell_type": "markdown",
   "metadata": {},
   "source": [
    "## 13.\n",
    "\n",
    "Магазин получил 1000 бутылок минеральной воды. Вероятность того, что при перевозке бутылка окажется разбитой, равна 0,003. Найти вероятность того, что магазин получит более двух разбитых бутылок.\n",
    "\n",
    "\\begin{equation}\n",
    "P > 2 = 1 - (P < 2)\n",
    "\\end{equation} "
   ]
  },
  {
   "cell_type": "code",
   "execution_count": 23,
   "metadata": {},
   "outputs": [
    {
     "name": "stdout",
     "output_type": "stream",
     "text": [
      "вероятность того, что магазин получит более двух разбитых бутылок: 0.577\n"
     ]
    }
   ],
   "source": [
    "n = 1000 #всего элементов\n",
    "p = 0.003 # вероятность отказа\n",
    "t = 2 #количество элементов которые откажут\n",
    "λ = n * p \n",
    "P = 0\n",
    "for term in range(0,3):\n",
    "    P_term = ((λ ** term) / np.math.factorial(term)) * math.e ** (-λ)\n",
    "    P = P +  P_term\n",
    "P = 1 - P\n",
    "print('вероятность того, что магазин получит более двух разбитых бутылок:', float('{:.3f}'.format(P)))"
   ]
  },
  {
   "cell_type": "markdown",
   "metadata": {},
   "source": [
    "## 14.\n",
    "\n",
    "В первой партии деталей 100 деталей, а во второй 200 деталей. Вероятность брака в первой партии 0,004, во второй 0,003. Найти вероятность того, что в обеих партиях нет бракованных деталей.\n",
    "\n"
   ]
  },
  {
   "cell_type": "code",
   "execution_count": 28,
   "metadata": {},
   "outputs": [
    {
     "name": "stdout",
     "output_type": "stream",
     "text": [
      "ероятность того, что в обеих партиях нет бракованных деталей: 0.368\n"
     ]
    }
   ],
   "source": [
    "n_1 = 100 \n",
    "n_2 = 200\n",
    "p_1 = 0.004\n",
    "p_2 = 0.003 \n",
    "t = 0 \n",
    "λ_1 = n_1 * p_1\n",
    "λ_2 = n_2 * p_2\n",
    "P_1 = ((λ_1 ** t) / np.math.factorial(0)) * math.e ** (-λ_1)\n",
    "P_2 = ((λ_2 ** t) / np.math.factorial(0)) * math.e ** (-λ_2)\n",
    "P = P_1 * P_2\n",
    "print('ероятность того, что в обеих партиях нет бракованных деталей:', float('{:.3f}'.format(P)))"
   ]
  },
  {
   "cell_type": "markdown",
   "metadata": {},
   "source": [
    "## 15.\n",
    "\n",
    "В новом микрорайоне поставлено 10000 кодовых замков на входных дверях домов. Вероятность выхода из строя одного замка в течение месяца равна 0,0002. Найти вероятность того, что за месяц откажет ровно 1 замок."
   ]
  },
  {
   "cell_type": "code",
   "execution_count": 32,
   "metadata": {},
   "outputs": [
    {
     "name": "stdout",
     "output_type": "stream",
     "text": [
      "вероятность того, что за время Т откажут ровно три элемента: 0.27\n"
     ]
    }
   ],
   "source": [
    "n = 10000 #всего элементов\n",
    "p = 0.0002 # вероятность отказа\n",
    "t = 1 #количество элементов которые откажут\n",
    "λ = n * p \n",
    "P = ((λ ** t) / np.math.factorial(t)) * math.e ** (-λ)\n",
    "print('вероятность того, что за время Т откажут ровно три элемента:', float('{:.2f}'.format(P)))"
   ]
  },
  {
   "cell_type": "markdown",
   "metadata": {},
   "source": [
    "# Бракованные ноутбуки"
   ]
  },
  {
   "cell_type": "markdown",
   "metadata": {},
   "source": [
    "## 16.\n",
    "\n",
    "Стрелок стреляет 3 раза по удаляющейся цели. Вероятность попадания при первом выстреле – 0,8, при втором – 0,7 и при третьем – 0,6. Какова вероятность хотя бы одного попадания?\n",
    "\n",
    "1 – 0,2 * 0, 3 * 0,4 = 0,976"
   ]
  },
  {
   "cell_type": "code",
   "execution_count": 2,
   "metadata": {},
   "outputs": [
    {
     "name": "stdout",
     "output_type": "stream",
     "text": [
      "вероятность хотя бы одного попадания: 0.976\n"
     ]
    }
   ],
   "source": [
    "P = 1 - (1 - 0.8) * (1 - 0.7) * (1 - 0.6)\n",
    "print('вероятность хотя бы одного попадания:', float('{:.3f}'.format(P)))"
   ]
  },
  {
   "cell_type": "markdown",
   "metadata": {},
   "source": [
    "## 17.\n",
    "\n",
    "60% школьников – девочки. 80% девочек и 75% мальчиков имеют билеты в театр. В учительскую принесли потерянный кем-то билет. Какова вероятность того, что этот билет принадлежит девочке?\n",
    "Вероятность что человек с билетом:\n"
   ]
  },
  {
   "cell_type": "code",
   "execution_count": 10,
   "metadata": {},
   "outputs": [
    {
     "name": "stdout",
     "output_type": "stream",
     "text": [
      "Вероятность что человек с билетом: 0.62\n"
     ]
    }
   ],
   "source": [
    "#Вероятность того, что у человека вообще есть билет\n",
    "P_human = 0.6 * 0.8 + 0.4 * 0.75\n",
    "#чтобы узнать вероятность того, что билет у девочки нужно вероятность того, что человек девочка умножить на вероятность того, \n",
    "#что у этой девочки есть билет, и разделить на вероятность того, что у человека вообще может быть билет\n",
    "P = ( 0.6 * 0.8 ) / P_human \n",
    "print('Вероятность что человек с билетом:', float('{:.2f}'.format(P)))"
   ]
  },
  {
   "cell_type": "markdown",
   "metadata": {},
   "source": [
    "## 18.\n",
    "\n",
    "30% изделий некоторого предприятия – продукция высшего сорта. Приобретено 4 изделия этого предприятия. Какова вероятность того, что 2 из них высшего сорта?\n"
   ]
  },
  {
   "cell_type": "code",
   "execution_count": 11,
   "metadata": {},
   "outputs": [
    {
     "name": "stdout",
     "output_type": "stream",
     "text": [
      "вероятность того, что 2 изделий высшего сорта: 0.2646\n"
     ]
    }
   ],
   "source": [
    "P = int(combination(4,2)) * 0.3 *0.3 * (1 - 0.3) * (1 - 0.3)\n",
    "print('вероятность того, что 2 изделий высшего сорта:', float('{:.4f}'.format(P)))"
   ]
  },
  {
   "cell_type": "markdown",
   "metadata": {},
   "source": [
    "## 19.\n",
    "\n",
    "В тире имеется 5 винтовок, вероятности попадания в цель из которых равны соответственно 0.5, 0.6, 0,7, 0,8 и 0,9. Определить вероятность попадания из взятой наугад винтовки."
   ]
  },
  {
   "cell_type": "code",
   "execution_count": 12,
   "metadata": {},
   "outputs": [
    {
     "name": "stdout",
     "output_type": "stream",
     "text": [
      "вероятность попадания из взятой наугад винтовки: 0.7\n"
     ]
    }
   ],
   "source": [
    "P = (0.5 + 0.6+0.7+0.8+0.9) / 5 \n",
    "print('вероятность попадания из взятой наугад винтовки:', float('{:.2f}'.format(P)))"
   ]
  },
  {
   "cell_type": "markdown",
   "metadata": {},
   "source": [
    "## 20.\n",
    "\n",
    "Вероятность того, что изготовленная на первом станке деталь будет первосортной, равна 0,7. Для второго станка эта вероятность равна 0,8. На первом станке изготовлены всего 2 детали, на втором – 3. Найти вероятность того, что все детали первосортные."
   ]
  },
  {
   "cell_type": "code",
   "execution_count": 23,
   "metadata": {},
   "outputs": [
    {
     "name": "stdout",
     "output_type": "stream",
     "text": [
      "вероятность того, что все детали первосортны.: 0.25088\n"
     ]
    }
   ],
   "source": [
    "P = 0.7 * 0.7 *0.8 * 0.8 * 0.8\n",
    "print('вероятность того, что все детали первосортны.:', float('{:.5f}'.format(P)))"
   ]
  },
  {
   "cell_type": "markdown",
   "metadata": {},
   "source": [
    "# Петя и карточки"
   ]
  },
  {
   "cell_type": "markdown",
   "metadata": {},
   "source": [
    "## 21.\n",
    "\n",
    "Из множества натуральных чисел от 28 до 47 наудачу выбирают одно число. Какова вероятность того, что оно не делится на 3?"
   ]
  },
  {
   "cell_type": "code",
   "execution_count": 25,
   "metadata": {},
   "outputs": [
    {
     "name": "stdout",
     "output_type": "stream",
     "text": [
      "вероятность того, что число не делится на три: 0.7\n"
     ]
    }
   ],
   "source": [
    "quantity = 0\n",
    "divisible = []\n",
    "for number in range(28,48):\n",
    "    if number % 3 != 0:\n",
    "        divisible.append(number)\n",
    "    quantity += 1\n",
    "P = len(divisible) / quantity\n",
    "print('вероятность того, что число не делится на три:', float('{:.5f}'.format(P)))"
   ]
  },
  {
   "cell_type": "markdown",
   "metadata": {},
   "source": [
    "## 22. \n",
    "\n",
    "У Саши есть три любимых числа: 5, 6, 10.\n",
    "Кроме них, у Саши есть трехзначное число N, не содержащее нулей. Он хочет сделать так, чтобы оно делилось хотя бы на одно из его любимых чисел. Для этого он выбирает две цифры, стоящие на разных позициях, и меняет их местами. И повторяет операцию нужное число раз, пока N не будет делиться на любимое число.\n",
    "Помогите Саше найти вероятность того, что хотя бы одна вариация числа N будет делиться хотя бы на одно из любимых чисел.\n",
    "Так как  трехзначное число N, не содержит нулей, то 10 отпадает, остаётся 5 или 6"
   ]
  },
  {
   "cell_type": "code",
   "execution_count": null,
   "metadata": {},
   "outputs": [],
   "source": [
    "# Функция перестановки цифр, проверки их на делимость\n",
    "import numpy as np\n",
    "#функция принимает на вход трёхзначное число\n",
    "def permutation(count):\n",
    "    answer = 0\n",
    "    #получает все цифры числа по отдельности\n",
    "    count_str = str(count)\n",
    "    first_number = count_str[0]\n",
    "    second_number = count_str[1]\n",
    "    third_number = count_str[2]\n",
    "    # 1,2,3   2,1,3  3,2,1  1,3,2\n",
    "    #создаёт четыре возможных комбинации перестановок\n",
    "    list_comninations = [[first_number, second_number, third_number], [second_number, first_number, third_number], \n",
    "                        [third_number, second_number, first_number], [first_number, third_number, second_number]]\n",
    "    success = []\n",
    "    #разбирает каждый варинат\n",
    "    for option in list_comninations:\n",
    "        count = ''\n",
    "        for number in option:\n",
    "            count += number\n",
    "            int_count = int(count)\n",
    "            if int_count > 100:\n",
    "                #если один из вариантов сочетания цифр числа делиться на 5 или 6, то запоминаем его\n",
    "                if (int_count % 5 == 0) or (int_count % 6  == 0):\n",
    "                    success.append(int_count)\n",
    "    #если есть хоть одно подходящее число возвращаем его\n",
    "    if len(success) > 0:\n",
    "        answer = success[0]\n",
    "    #если нет, возращаем ноль\n",
    "    else:\n",
    "        answer = 0\n",
    "    return answer"
   ]
  },
  {
   "cell_type": "code",
   "execution_count": 114,
   "metadata": {},
   "outputs": [
    {
     "name": "stdout",
     "output_type": "stream",
     "text": [
      "вероятность того, что хотя бы одна вариация числа N будет делиться хотя бы на одно из любимых чисел: 0.202\n"
     ]
    }
   ],
   "source": [
    "right_numbers = []\n",
    "#перебираем все трёхзначные числа, и выбираем только те в которых нет нулей\n",
    "for number in range(100,1000):\n",
    "    b = str(number)\n",
    "    if '0' not  in b:\n",
    "        right_numbers.append(number)\n",
    "    \n",
    "divisible_numbers = []   \n",
    "un_divisible_numbers = []  \n",
    "#убираем те числа, которые деляться на 5 или 6 по умолчанию, без перестановок\n",
    "for count in right_numbers:\n",
    "    if (count % 5 == 0) or (count % 6 == 0):\n",
    "        divisible_numbers.append(count)\n",
    "    else:\n",
    "        un_divisible_numbers.append(count)\n",
    "\n",
    "#перебираем те числа которые остались, и проверяем можно ли перестановками добиться их делимости на 5 или 6\n",
    "success = []\n",
    "for count in un_divisible_numbers:\n",
    "    count = permutation(count)\n",
    "    #если можно заопинаем это число\n",
    "    if count != 0:\n",
    "        success.append(count) \n",
    "#делим количество подходящих чисел, на количество всех трёх значных\n",
    "P = len(success) / (1000 - 100)\n",
    "print('вероятность того, что хотя бы одна вариация числа N будет делиться хотя бы на одно из любимых чисел:', float('{:.3f}'.format(P)))"
   ]
  },
  {
   "cell_type": "markdown",
   "metadata": {},
   "source": [
    "## 23. \n",
    "\n",
    "На десяти одинаковых карточках записаны различные цифры от 0 до 9. Определить вероятность того, что наудачу образованное с помощью двух данных карточек число делится на 18.\n"
   ]
  },
  {
   "cell_type": "code",
   "execution_count": 55,
   "metadata": {},
   "outputs": [
    {
     "name": "stdout",
     "output_type": "stream",
     "text": [
      "[18, 36, 54, 72, 90]\n",
      "True\n",
      "вероятность того, что наудачу образованное с помощью двух данных карточек число делится на 18: 0.05556\n"
     ]
    }
   ],
   "source": [
    "#Всего возможных варинатов размещения цифр\n",
    "N = 10 * 9\n",
    "#чилса которые деляться на 18\n",
    "divisible = []\n",
    "for number in range(1,100):\n",
    "    if (number % 18 == 0):\n",
    "        divisible.append(number)\n",
    "print(divisible)\n",
    "P = len(divisible) / N\n",
    "print((P) == (1 /  18))\n",
    "print('вероятность того, что наудачу образованное с помощью двух данных карточек число делится на 18:', float('{:.5f}'.format(P)))"
   ]
  },
  {
   "cell_type": "markdown",
   "metadata": {},
   "source": [
    "## 24.\n",
    "\"Счастливым\" считается шестизначный билет, сумма первых трех цифр которого совпадает с суммой последних трех цифр. Найдите вероятность получить \"счастливый\" билет"
   ]
  },
  {
   "cell_type": "code",
   "execution_count": 72,
   "metadata": {},
   "outputs": [
    {
     "name": "stdout",
     "output_type": "stream",
     "text": [
      "[100001, 100010, 100100, 101002, 101011, 101020, 101101, 101110, 101200, 102003]\n",
      "вероятность получить \"счастливый\" билет: 5.6 %\n"
     ]
    }
   ],
   "source": [
    "hapyy_list = []\n",
    "quantity = 0\n",
    "for number in range(100000,1000000):\n",
    "    b = str(number)\n",
    "    if int(b[0]) + int(b[1]) + int(b[2]) == int(b[3]) + int(b[4]) + int(b[5]):\n",
    "        hapyy_list.append(number)\n",
    "    quantity += 1\n",
    "print(hapyy_list[0:10])\n",
    "P = 100 * (len(hapyy_list) / quantity)  \n",
    "print('вероятность получить \"счастливый\" билет:', float('{:.2f}'.format(P)), '%')"
   ]
  },
  {
   "cell_type": "markdown",
   "metadata": {},
   "source": [
    "## 25.\n",
    "Из 10 карточек с буквами А, Д, А, Б, А, Д, В, Г, Д, А наудачу выбираются 3. Какова вероятность того, что из этих карточек можно сложить слово «ДВА»?\n",
    "\n",
    "Количество способов достать 3 карточки из десяти: C(10,3)\n",
    "Умножение независимых событий: 4 А, 1 В, 3 Д"
   ]
  },
  {
   "cell_type": "code",
   "execution_count": 79,
   "metadata": {},
   "outputs": [
    {
     "name": "stdout",
     "output_type": "stream",
     "text": [
      "вероятность того, что из этих карточек можно сложить слово «ДВА» 0.1\n"
     ]
    }
   ],
   "source": [
    "C = int(combination(10,3))\n",
    "M = 4 * 1 * 3\n",
    "P = M / C\n",
    "print('вероятность того, что из этих карточек можно сложить слово «ДВА»', float('{:.2f}'.format(P)))"
   ]
  },
  {
   "cell_type": "markdown",
   "metadata": {},
   "source": [
    "## 26.\n",
    "Имеется 2k + 1 карточек, занумерованных числами от 1 до 2k + 1. Какое наибольшее число карточек можно выбрать так, чтобы ни один из извлечённых номеров не был равен сумме двух других извлечённых номеров?\n",
    "\n",
    "Если взять все карточки с нечётными номерами (их k + 1) , то условие будет\n",
    "выполнено. Если взять k + 2 карточки, то, вычитая из наибольшего их номера N все\n",
    "остальные, мы получим k + 1 различное число. Все эти числа не превышают 2k, поэтому\n",
    "хотя бы два из них совпадут с номерами на k + 2 выбранных карточках. По крайней мере\n",
    "один из этих двух номеров не равен N\n",
    "/2. Ответ: k + 1 карточку."
   ]
  },
  {
   "cell_type": "markdown",
   "metadata": {},
   "source": [
    "# Червяк Шредингера"
   ]
  },
  {
   "cell_type": "markdown",
   "metadata": {},
   "source": [
    "##  27.\n",
    "Игрок имеет 99 USDT на криптовалютной бирже. Вероятность заработать 1 USDT в результате 1 раунда торгов равна 0,45, потерять - 0,55. С какой вероятностью игрок когда-нибудь заработает 100 USDT (прежде, чем все потерять)?\n",
    "\n"
   ]
  },
  {
   "cell_type": "code",
   "execution_count": 37,
   "metadata": {},
   "outputs": [
    {
     "name": "stdout",
     "output_type": "stream",
     "text": [
      "вероятность, что игрок когда-нибудь заработает 100 USDT 0.8217\n"
     ]
    }
   ],
   "source": [
    "import random\n",
    "win = 0 #количество побед (благоприятных исходов)\n",
    "lose = 0 #количество поражений (неблагоприятных исходов)\n",
    "total = 1000000\n",
    "for k in range(total): # число прогонов\n",
    "    current = 99 # количество USDT у игрока\n",
    "    while current != 0 and current != 100: # Или все проиграет игрок, или выиграет 100 USDT\n",
    "        move = random.random() #ход\n",
    "        if move < 0.451: #вероятность победы\n",
    "            current += 1 # игрок получает 1 USDT\n",
    "        else:\n",
    "            current -= 1 # игрок теряет 1 USDT\n",
    "    if current == 0: #если игрок проиграл все USDT, то увеличиваем количество поражений\n",
    "        lose += 1\n",
    "    else: # иначе увеличичваем количество побед\n",
    "        win += 1\n",
    "print('вероятность, что игрок когда-нибудь заработает 100 USDT', float('{:.4f}'.format(win / (lose + win))))"
   ]
  },
  {
   "cell_type": "markdown",
   "metadata": {},
   "source": [
    "##  28.\n",
    "\n",
    "Рассмотрим ту же «невыгодную» игровую ситуацию, при которой вероятность потерять равна 0,55, а выиграть - 0,45. И начальный капитал игрока равен уже 90 USDT, но каждый раз он ставит по 10 USDT на кон. Какова вероятность выиграть (получить на балансе 100 USDT прежде, чем разориться) для игрока?"
   ]
  },
  {
   "cell_type": "code",
   "execution_count": 38,
   "metadata": {},
   "outputs": [
    {
     "name": "stdout",
     "output_type": "stream",
     "text": [
      "вероятность, что игрок когда-нибудь заработает 100 USDT: 0.7929\n"
     ]
    }
   ],
   "source": [
    "import random\n",
    "win = 0 #количество побед (благоприятных исходов)\n",
    "lose = 0 #количество поражений (неблагоприятных исходов)\n",
    "total = 1000000\n",
    "for k in range(total): # число прогонов\n",
    "    current = 90 # количество USDT у игрока\n",
    "    while current != 0 and current != 100: # Или все проиграет игрок, или выиграет 100 USDT\n",
    "        move = random.random() #ход\n",
    "        if move < 0.451: #вероятность победы\n",
    "            current += 10 # игрок получает 10 USDT\n",
    "        else:\n",
    "            current -= 10 # игрок теряет 10 USDT\n",
    "    if current == 0: #если игрок проиграл все USDT, то увеличиваем количество поражений\n",
    "        lose += 1\n",
    "    else: # иначе увеличичваем количество побед\n",
    "        win += 1\n",
    "print('вероятность, что игрок когда-нибудь заработает 100 USDT:', float('{:.4f}'.format(win / (lose + win))))"
   ]
  },
  {
   "cell_type": "markdown",
   "metadata": {},
   "source": [
    "## 29.\n",
    "\n",
    "Какова вероятность выиграть 20% от первоначального капитала при ставке 10% от капитала, если вероятность выигрыша и проигрыша одинаковые и равны ½? "
   ]
  },
  {
   "cell_type": "code",
   "execution_count": 45,
   "metadata": {},
   "outputs": [
    {
     "name": "stdout",
     "output_type": "stream",
     "text": [
      "вероятность выиграть 20%: 1.0\n"
     ]
    }
   ],
   "source": [
    "import random\n",
    "win = 0 #количество побед (благоприятных исходов)\n",
    "lose = 0 #количество поражений (неблагоприятных исходов)\n",
    "total = 10000\n",
    "for k in range(total): # число прогонов\n",
    "    current = 100 # 10% первоначального капитала\n",
    "    while current != 0 and current != 20: # Или все проиграет игрок, или выиграет 20% от первоначального капитала\n",
    "        move = random.random() #ход\n",
    "        if move < 0.5: #вероятность победы\n",
    "            current += 10 #ставка 10% от капитала \n",
    "        else:\n",
    "            current -= 10 \n",
    "    if current == 0: #если игрок проиграл весь капитал, то увеличиваем количество поражений\n",
    "        lose += 1\n",
    "    else: # иначе увеличичваем количество побед\n",
    "        win += 1\n",
    "print('вероятность выиграть 20%:', float('{:.4f}'.format(win / (lose + win))))"
   ]
  },
  {
   "cell_type": "code",
   "execution_count": 44,
   "metadata": {},
   "outputs": [
    {
     "name": "stdout",
     "output_type": "stream",
     "text": [
      "вероятность выиграть 20%: 0.4995\n"
     ]
    }
   ],
   "source": [
    "import random\n",
    "win = 0 #количество побед (благоприятных исходов)\n",
    "lose = 0 #количество поражений (неблагоприятных исходов)\n",
    "total = 1000000\n",
    "for k in range(total): # число прогонов\n",
    "    current = 10 # 10% первоначального капитала\n",
    "    while current != 0 and current != 20: # Или все проиграет игрок, или выиграет 20% от первоначального капитала\n",
    "        move = random.random() #ход\n",
    "        if move < 0.5: #вероятность победы\n",
    "            current += 1 #ставка 10% от капитала \n",
    "        else:\n",
    "            current -= 1 \n",
    "    if current == 0: #если игрок проиграл весь капитал, то увеличиваем количество поражений\n",
    "        lose += 1\n",
    "    else: # иначе увеличичваем количество побед\n",
    "        win += 1\n",
    "print('вероятность выиграть 20%:', float('{:.4f}'.format(win / (lose + win))))"
   ]
  },
  {
   "cell_type": "markdown",
   "metadata": {},
   "source": [
    "# Время дозвона"
   ]
  },
  {
   "cell_type": "markdown",
   "metadata": {},
   "source": [
    "## 30.\n",
    "По следующим данным определите средний стаж рабочего:\n",
    "\n",
    "Так как имеются и значения признака и частоты, то средний стаж находим по формуле средней арифметической взвешенной. А так как ряд интервальный, то в качестве значения признака в каждой группе берём середины интервала\n",
    "\n",
    "\\begin{equation}\n",
    "Xap = {2,5 * 70 + 7,5 * 60 + 12,5 * 20 + 17,5 * 22 + 22,5 * 18 +27,5 * 10 \\over 200} = 9,7\n",
    "\\end{equation} "
   ]
  },
  {
   "cell_type": "code",
   "execution_count": 117,
   "metadata": {},
   "outputs": [
    {
     "name": "stdout",
     "output_type": "stream",
     "text": [
      "9.7\n"
     ]
    }
   ],
   "source": [
    "x = (2.5 * 70 + 7.5 * 60 + 12.5 * 20 + 17.5 * 22 + 22.5 * 18 + 27.5 * 10)/200\n",
    "print(x)"
   ]
  },
  {
   "cell_type": "markdown",
   "metadata": {},
   "source": [
    "## 31.\n",
    "\n",
    "Все частоты уменьшились в два раза, а все варианты увеличились на две единицы. Что произойдет со средней?\n",
    "\n",
    "Согласно свойствам средней арифметической, если все частоты ряда уменьшить или увеличить в одинаковое количество раз, то средняя не изменится, т.е. с точки зрения частотсредняя не изменится. Если все варианты увеличить или уменьшить на одно и то же число, то и средняя изменится на это же число. В нашем случае средняя увеличится на две единицы."
   ]
  },
  {
   "cell_type": "markdown",
   "metadata": {},
   "source": [
    "## 32.\n",
    "Двое рабочих в течение 8-часового рабочего дня изготовляют одни и те же детали. Первый из них тратит на изготовление детали 30 мин., второй — 40 мин. Вычислите среднюю затрату времени на изготовление одной детали.\n",
    "* Так как произведения признака на частоту равны, то средняя определяется по формуле средней гармонической простой:"
   ]
  },
  {
   "cell_type": "code",
   "execution_count": 120,
   "metadata": {},
   "outputs": [
    {
     "name": "stdout",
     "output_type": "stream",
     "text": [
      "34.285714285714285\n"
     ]
    }
   ],
   "source": [
    "x = 2 / (1/30 + 1/40)\n",
    "print(x)"
   ]
  },
  {
   "cell_type": "markdown",
   "metadata": {},
   "source": [
    "## 33.\n",
    "\n",
    "Автомобиль проехал 1000 км, из них 480 км он прошел со скоростью 60 км/час, 320 — со скоростью 80 км/час и 200 км — со скоростью 50 км/час. Определите среднюю скорость, с которой совершался рейс."
   ]
  },
  {
   "cell_type": "code",
   "execution_count": 123,
   "metadata": {},
   "outputs": [
    {
     "name": "stdout",
     "output_type": "stream",
     "text": [
      "62.5\n"
     ]
    }
   ],
   "source": [
    "S = 1000\n",
    "v1 = 480 / 60\n",
    "v2 = 320 / 80\n",
    "v3 = 200 / 50\n",
    "t = S/(v1+v2+v3)\n",
    "print(t)"
   ]
  },
  {
   "cell_type": "markdown",
   "metadata": {},
   "source": [
    "## 34\n",
    "Определить моду и медиану по следующим данным:\n",
    "\n",
    "модальный интервал 25-30 лет, так как его частота наибольшая (1054)\n",
    "\n",
    "Медианным интервалом является интервал 25-30, так как он является первым интервалом, накопленная частота которого превышает полусумму частот (3462: 2=1731)."
   ]
  },
  {
   "cell_type": "code",
   "execution_count": 128,
   "metadata": {},
   "outputs": [
    {
     "name": "stdout",
     "output_type": "stream",
     "text": [
      "27.0\n",
      "27.43358633776091\n"
     ]
    }
   ],
   "source": [
    "Mode = 25 + (5 * ((1054 - 872) / ((1054 - 872) + (1054 - 781))))\n",
    "print(Mode)\n",
    "Median = 25 + (5 * ((3462/2) - 1218) / 1054)\n",
    "print(Median)"
   ]
  },
  {
   "cell_type": "markdown",
   "metadata": {},
   "source": [
    "# Значимость изменений"
   ]
  },
  {
   "cell_type": "markdown",
   "metadata": {},
   "source": [
    "## 35.\n",
    "\n",
    "По данным 7 измерений некоторой величины найдены средняя результатов измерений, равная 30 и выборочная дисперсия, равная 36. Найдите границы, в которых с надежностью 0,99 заключено истинное значение измеряемой величины.\n",
    "\n",
    "Значения Т-критерия стьюдента (0,99;7) по таблице при P - 0,01 равно 3,707\n",
    "Доверительные границы для интервала заключающего истинное значение измеряемой величины равны: "
   ]
  },
  {
   "cell_type": "code",
   "execution_count": 144,
   "metadata": {},
   "outputs": [
    {
     "name": "stdout",
     "output_type": "stream",
     "text": [
      "21.5933  < a <  38.4067\n"
     ]
    }
   ],
   "source": [
    "import math\n",
    "\n",
    "left_border = 30 - ((3.707 * 6) / math.sqrt(7))\n",
    "right_border = 30 + ((3.707 * 6) / math.sqrt(7))\n",
    "print(float('{:.4f}'.format(left_border)),  ' < a < ', float('{:.4f}'.format(right_border)))"
   ]
  },
  {
   "cell_type": "markdown",
   "metadata": {},
   "source": [
    "## 36.\n",
    "\n",
    "По группе семей с доходом 154 тысяч руб./чел. зафиксированы следующие цифры потребления молока (л) за месяц (на одного человека): 8,3; 8,6; 8,7; 8,8; 9,1; 9,3; 9,4; 13,4; 13,5; 13,8; 13,9; 14,1; 14,3. Найти доверительный интервал для математического ожидания с надежностью 0.95. Выборка произведена из нормальной совокупности."
   ]
  },
  {
   "cell_type": "code",
   "execution_count": 183,
   "metadata": {},
   "outputs": [
    {
     "name": "stdout",
     "output_type": "stream",
     "text": [
      "2.49\n",
      "доверительный интервал 9.664  < a <  12.674\n",
      "Точность оценки 1.505\n"
     ]
    }
   ],
   "source": [
    "import numpy as np\n",
    "#Выборочная средняя\n",
    "list_number = [8.3, 8.6, 8.7, 8.8, 9.1, 9.3, 9.4, 13.4, 13.5, 13.8, 13.9, 14.1, 14.3]\n",
    "E = sum(list_number)\n",
    "E = (float('{:.3f}'.format(E/13)))\n",
    "#Выборочная дисперсия\n",
    "D = np.var(list_number)\n",
    "D = float('{:.3f}'.format(D))\n",
    "Q = math.sqrt(D)\n",
    "Q = float('{:.3f}'.format(Q))\n",
    "#по таблице T - критерий Стьюдента для (13 - 1, 0,95) = 2,179\n",
    "left_border = E - (2.179 * Q  / math.sqrt(len(list_number)))\n",
    "right_border = E + (2.179 * Q / math.sqrt(len(list_number)))\n",
    "print('доверительный интервал',float('{:.3f}'.format(left_border)),  ' < a < ', float('{:.3f}'.format(right_border)))\n",
    "#точность оценки\n",
    "d = 2.179 *  Q  / math.sqrt(len(list_number))\n",
    "print('Точность оценки',float('{:.3f}'.format(d)))"
   ]
  },
  {
   "cell_type": "markdown",
   "metadata": {},
   "source": [
    "## 37.\n",
    "\n",
    "С целью размещения рекламы опрошено 420 телезрителей, из которых данную передачу смотрят 170 человек. С доверительной вероятностью γ=0,91 найти долю телезрителей, охваченных рекламой в лучшем случае."
   ]
  },
  {
   "cell_type": "code",
   "execution_count": 180,
   "metadata": {},
   "outputs": [
    {
     "name": "stdout",
     "output_type": "stream",
     "text": [
      "0.4048\n",
      "доверительный интервал 0.364  < a <  0.445\n",
      "Лучший вариант охвата телезрителей  44.5 % телезрителей\n"
     ]
    }
   ],
   "source": [
    "import math\n",
    "#Оценка неизвестной доли телезрителей\n",
    "n = 420#объем выборки\n",
    "w = float('{:.4f}'.format(170/n))#- относительная частота\n",
    "t =  1.69\n",
    "left_border = w - t * math.sqrt((w * (1 - w))/n) \n",
    "right_border = w + t * math.sqrt((w * (1 - w))/n)\n",
    "print('доверительный интервал',float('{:.3f}'.format(left_border)),  ' < a < ', float('{:.3f}'.format(right_border)))\n",
    "print('Лучший вариант охвата телезрителей ', float('{:.3f}'.format(right_border)) * 100, '% телезрителей')"
   ]
  },
  {
   "cell_type": "markdown",
   "metadata": {},
   "source": [
    "## 38. ---------------------\n",
    "Из генеральной совокупности извлечена выборка объема n = 10:\n",
    "вариант xi -2 1 2 3 4 5\n",
    " частота  ni   2 1 2 2 2 1\n",
    "Оценить с надежностью γ = 0.95 математическое ожидание a нормально распределенного признака генеральной совокупности по выборочной средней при помощи доверительного интервала"
   ]
  },
  {
   "cell_type": "code",
   "execution_count": 192,
   "metadata": {},
   "outputs": [
    {
     "name": "stdout",
     "output_type": "stream",
     "text": [
      "2.167\n",
      "доверительный интервал -0.171  < a <  4.505\n"
     ]
    }
   ],
   "source": [
    "list_xi = [-2,1,2,3,4,5]\n",
    "list_ni = [2,1,2,2,2,1]\n",
    "E = float('{:.3f}'.format(sum(list_xi) / len(list_xi)))\n",
    "index = 0\n",
    "D = 0\n",
    "for count in list_xi:\n",
    "    ni = list_ni[index]\n",
    "    ni = (ni - count) *  (ni - count) \n",
    "    D = D + ni\n",
    "D = math.sqrt(D)\n",
    "D = float('{:.3f}'.format(D))\n",
    "print(E)\n",
    "n = 10\n",
    "t = 2.30\n",
    "left_border = E - (t * Q  / math.sqrt(len(list_xi)))\n",
    "right_border = E + (t * Q / math.sqrt(len(list_xi)))\n",
    "print('доверительный интервал',float('{:.3f}'.format(left_border)),  ' < a < ', float('{:.3f}'.format(right_border)))"
   ]
  }
 ],
 "metadata": {
  "kernelspec": {
   "display_name": "Python 3",
   "language": "python",
   "name": "python3"
  },
  "language_info": {
   "codemirror_mode": {
    "name": "ipython",
    "version": 3
   },
   "file_extension": ".py",
   "mimetype": "text/x-python",
   "name": "python",
   "nbconvert_exporter": "python",
   "pygments_lexer": "ipython3",
   "version": "3.8.5"
  }
 },
 "nbformat": 4,
 "nbformat_minor": 5
}
