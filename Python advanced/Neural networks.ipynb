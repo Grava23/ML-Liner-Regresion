{
 "cells": [
  {
   "cell_type": "markdown",
   "id": "4f282cfb",
   "metadata": {},
   "source": [
    "# Подключаем все необходимые библиотеки, и подготавливаем данные"
   ]
  },
  {
   "cell_type": "code",
   "execution_count": null,
   "id": "1360e9ae",
   "metadata": {},
   "outputs": [],
   "source": [
    "from __future__ import print_function\n",
    "%matplotlib inline\n",
    "import matplotlib.pyplot as plt\n",
    "import matplotlib.image as mpimg\n",
    "from imgaug.augmentables.segmaps import SegmentationMapsOnImage\n",
    "import numpy as np\n",
    "import pandas as pd\n",
    "import keras\n",
    "from sklearn.model_selection import train_test_split\n",
    "from keras.preprocessing import image\n",
    "from keras.models import Model,load_model\n",
    "import segmentation_models as sm\n",
    "from math import ceil\n",
    "import tensorflow as tf\n",
    "from math import ceil\n",
    "import os\n",
    "import sys\n",
    "from sklearn.linear_model import LinearRegression\n",
    "os.environ[\"KERAS_BACKEND\"] = \"plaidml.keras.backend\""
   ]
  },
  {
   "cell_type": "code",
   "execution_count": null,
   "id": "66eca25b",
   "metadata": {},
   "outputs": [],
   "source": [
    "batch_size = 10\n",
    "filesDir = \"E:/ittensive/ML Neural networks/Part 4/train_images_small\"\n",
    "image_x = 384 # 525\n",
    "image_y = 256 # 350\n",
    "image_ch = 3 # 3\n",
    "mask_x = 384\n",
    "mask_y = 256\n",
    "def mask_rate (a, x, y):\n",
    "    b = a//1400 + 0.0\n",
    "    return np.round(x*(b*x//2100) + y*(a%1400)//1400).astype(\"uint32\")\n",
    "\n",
    "def calc_mask (px, x=image_x, y=image_y):\n",
    "    p = np.array([int(n) for n in px.split(' ')]).reshape(-1,2)\n",
    "    mask = np.zeros(x*y, dtype='uint8')\n",
    "    for i, l in p:\n",
    "        mask[mask_rate(i, x, y) - 1:mask_rate(l+i, x, y)] = 1\n",
    "    return mask.reshape(y,x).transpose()\n",
    "\n",
    "def calc_dice (x):\n",
    "    dice = 0\n",
    "    px = x[\"EncodedPixels\"] \n",
    "    if px != px and x[\"target\"] == 0:\n",
    "        dice = 1\n",
    "    elif px == px and x[\"target\"] == 1:\n",
    "        mask = calc_mask(px).flatten()\n",
    "        target = np.array(x[\"TargetPixels\"].split(\" \")).astype(\"int8\")\n",
    "        dice += 2*np.sum(target[mask==1])/(np.sum(target)+np.sum(mask))\n",
    "    return dice\n",
    "\n",
    "def load_y (df):\n",
    "    y = [[0]]*len(df)\n",
    "    for i, ep in enumerate(df[\"EncodedPixels\"]):\n",
    "        if ep == ep:\n",
    "            y[i] = calc_mask(ep, mask_x, mask_y).transpose().flatten()\n",
    "        else:\n",
    "            y[i] = np.zeros(mask_x*mask_y, dtype=\"i1\")\n",
    "    return np.array(y).reshape(len(df), mask_y, mask_x, 1)\n",
    "\n",
    "def load_x (df):\n",
    "    x = [[]]*len(df)\n",
    "    for j, file in enumerate(df[\"Image\"]):\n",
    "        img = image.load_img(os.path.join(filesDir, file),\n",
    "                     target_size=(image_y, image_x))\n",
    "        img = image.img_to_array(img)\n",
    "        x[j] = np.expand_dims(img, axis=0)\n",
    "    return np.array(x).reshape(len(df), image_y, image_x, image_ch)\n",
    "\n",
    "def load_data (df, batch_size):\n",
    "    while True:\n",
    "        batch_start = 0\n",
    "        batch_end = batch_size\n",
    "        while batch_start < len(df):\n",
    "            limit = min(batch_end, len(df))\n",
    "            yield (load_x(df[batch_start:limit]),\n",
    "                   load_y(df[batch_start:limit]))\n",
    "            batch_start += batch_size   \n",
    "            batch_end += batch_size\n",
    "\n",
    "def draw_prediction (prediction):\n",
    "    fig = plt.figure(figsize=(16, 8))\n",
    "    ax = fig.add_subplot(1,1,1)\n",
    "    ax.hist(prediction[0])\n",
    "    ax.set_title(\"Fish\")\n",
    "    plt.show()\n",
    "    \n",
    "def multiply(prediction, argument):\n",
    "    result_list = []\n",
    "    for multiplied, i  in enumerate(prediction):\n",
    "        result =  prediction[multiplied] * argument[multiplied]\n",
    "        result_list.append(result)\n",
    "    return result_list"
   ]
  },
  {
   "cell_type": "code",
   "execution_count": null,
   "id": "1f46e513",
   "metadata": {},
   "outputs": [],
   "source": [
    "data = pd.read_csv('E:/ittensive/ML Neural networks/Part 4/train.csv.gz')"
   ]
  },
  {
   "cell_type": "code",
   "execution_count": null,
   "id": "a81941a0",
   "metadata": {},
   "outputs": [],
   "source": [
    "data[\"Image\"] = data[\"Image_Label\"].str.split(\"_\").str[0]\n",
    "data[\"Label\"] = data[\"Image_Label\"].str.split(\"_\").str[1]\n",
    "data.drop(labels=[\"Image_Label\"], axis=1, inplace=True)\n",
    "data_fish = data[data[\"Label\"] == \"Fish\"]\n",
    "print (data_fish.head())"
   ]
  },
  {
   "cell_type": "code",
   "execution_count": null,
   "id": "0ca91bde",
   "metadata": {},
   "outputs": [],
   "source": [
    "train, test = train_test_split(data_fish, test_size=0.2)\n",
    "train = pd.DataFrame(train)\n",
    "test = pd.DataFrame(test)\n",
    "del data\n",
    "print (train.head())"
   ]
  },
  {
   "cell_type": "markdown",
   "id": "4c7537bc",
   "metadata": {},
   "source": [
    "## Загружаем модели нейросетей, и обучаем их "
   ]
  },
  {
   "cell_type": "markdown",
   "id": "32d01f8f",
   "metadata": {},
   "source": [
    "# U-net (train)"
   ]
  },
  {
   "cell_type": "code",
   "execution_count": null,
   "id": "496ff1c7",
   "metadata": {},
   "outputs": [],
   "source": [
    "model_unet = load_model(\"E:/ittensive/ML Neural networks/Part 4/U-net/unet.fish.h5\", compile=False)"
   ]
  },
  {
   "cell_type": "code",
   "execution_count": null,
   "id": "aaf72df8",
   "metadata": {},
   "outputs": [],
   "source": [
    "prediction_unet = model_unet.predict_generator(load_data(train, 1), steps=len(train), verbose=1)"
   ]
  },
  {
   "cell_type": "code",
   "execution_count": null,
   "id": "4cfa152d",
   "metadata": {},
   "outputs": [],
   "source": [
    "prediction_unet = prediction_unet.astype('int8')"
   ]
  },
  {
   "cell_type": "code",
   "execution_count": null,
   "id": "50b85c9a",
   "metadata": {},
   "outputs": [],
   "source": [
    "np.save('E:/ittensive/ML Neural networks/Part 4/U-net/prediction_unet.npy', prediction_unet)"
   ]
  },
  {
   "cell_type": "markdown",
   "id": "34c5228a",
   "metadata": {},
   "source": [
    "# FPN (train)"
   ]
  },
  {
   "cell_type": "code",
   "execution_count": null,
   "id": "f243d6a9",
   "metadata": {},
   "outputs": [],
   "source": [
    "model_fpn = load_model(\"E:/ittensive/ML Neural networks/Part 4/FPN/fpn.fish.h5\", compile=False)"
   ]
  },
  {
   "cell_type": "code",
   "execution_count": null,
   "id": "6a57b216",
   "metadata": {},
   "outputs": [],
   "source": [
    "prediction_fpn = model_fpn.predict_generator(load_data(train, 1), steps=len(train), verbose=1)"
   ]
  },
  {
   "cell_type": "code",
   "execution_count": null,
   "id": "fe43b68e",
   "metadata": {},
   "outputs": [],
   "source": [
    "prediction_fpn = prediction_fpn.astype('int8')"
   ]
  },
  {
   "cell_type": "code",
   "execution_count": null,
   "id": "23c90ab7",
   "metadata": {},
   "outputs": [],
   "source": [
    "np.save('E:/ittensive/ML Neural networks/Part 4/FPN/prediction_fpn.npy', prediction_fpn)"
   ]
  },
  {
   "cell_type": "markdown",
   "id": "867415a3",
   "metadata": {},
   "source": [
    "# PSPnet (train)"
   ]
  },
  {
   "cell_type": "code",
   "execution_count": null,
   "id": "7b340445",
   "metadata": {},
   "outputs": [],
   "source": [
    "model_fpn = load_model(\"E:/ittensive/ML Neural networks/Part 4/FPN/fpn.fish.h5\", compile=False)"
   ]
  },
  {
   "cell_type": "code",
   "execution_count": null,
   "id": "825e56e0",
   "metadata": {},
   "outputs": [],
   "source": [
    "prediction_pspnet = model_pspnet.predict_generator(load_data(train, 1), steps=len(train), verbose=1)"
   ]
  },
  {
   "cell_type": "code",
   "execution_count": null,
   "id": "c898d6a6",
   "metadata": {},
   "outputs": [],
   "source": [
    "prediction_pspnet = prediction_pspnet.astype('int8')"
   ]
  },
  {
   "cell_type": "code",
   "execution_count": null,
   "id": "819254cd",
   "metadata": {},
   "outputs": [],
   "source": [
    "np.save('E:/ittensive/ML Neural networks/Part 4/PSPnet/prediction_pspnet.npy', prediction_pspnet)"
   ]
  },
  {
   "cell_type": "markdown",
   "id": "1a317dc7",
   "metadata": {},
   "source": [
    "# Распаковываем маску изображений"
   ]
  },
  {
   "cell_type": "code",
   "execution_count": null,
   "id": "f64a925d",
   "metadata": {},
   "outputs": [],
   "source": [
    "train[\"EncodedPixels\"] = train[\"EncodedPixels\"].fillna(0)\n",
    "\n",
    "list_intrepolite = [0]\n",
    "list_intrepolite = list_intrepolite * 384\n",
    "list_intrepolite = np.array(list_intrepolite).reshape(384, 1).astype('int8')\n",
    "\n",
    "\n",
    "mask_intepolite = []\n",
    "for pixel in range(0, 256):\n",
    "    mask_intepolite.append(list_intrepolite)\n",
    "\n",
    "    \n",
    "new_frame = []    \n",
    "for row in train[\"EncodedPixels\"]:\n",
    "    if row != 0:\n",
    "        new_frame.append(np.array(calc_mask(row)).reshape(384, 256, 1).astype('int8'))\n",
    "    else:\n",
    "        new_frame.append(np.array(mask_intepolite).astype('int8'))\n",
    "        \n",
    "np.save('E:/ittensive/ML Neural networks/Part 4/new_frame.npy', new_frame)"
   ]
  },
  {
   "cell_type": "markdown",
   "id": "ce0cfff5",
   "metadata": {},
   "source": [
    "# Строим модель CatBoost"
   ]
  },
  {
   "cell_type": "code",
   "execution_count": null,
   "id": "134f793e",
   "metadata": {},
   "outputs": [],
   "source": [
    "y = np.array(new_frame).flatten().reshape(436076544,1)"
   ]
  },
  {
   "cell_type": "code",
   "execution_count": null,
   "id": "1535152d",
   "metadata": {},
   "outputs": [],
   "source": [
    "x = np.array([prediction_unet.reshape(436076544,1),\n",
    "                              prediction_fpn.reshape(436076544,1), \n",
    "                              prediction_pspnet.reshape(436076544,1)])\n",
    "\n",
    "x = np.transpose(x)\n",
    "x = x[0]"
   ]
  },
  {
   "cell_type": "code",
   "execution_count": null,
   "id": "8b5c3de4",
   "metadata": {},
   "outputs": [],
   "source": [
    "del prediction_unet\n",
    "del prediction_fpn\n",
    "del prediction_pspnet"
   ]
  },
  {
   "cell_type": "markdown",
   "id": "c65c8a93",
   "metadata": {},
   "source": [
    "train_dataset = Pool(data=x, label=y)\n",
    "model = CatBoostClassifier(iterations=10, learning_rate=0.57,\n",
    "                random_seed=17, depth=6, loss_function=\"MultiClass\",\n",
    "                bootstrap_type=\"MVS\", custom_metric=\"WKappa\")"
   ]
  },
  {
   "cell_type": "code",
   "execution_count": null,
   "id": "099bbf14",
   "metadata": {},
   "outputs": [],
   "source": [
    "cb_params = {\n",
    "    \"depth\": range(5,8),\n",
    "    'learning_rate': np.arange(0.56,0.59,0.01),\n",
    "    'l2_leaf_reg': range(1,5),}\n",
    "\n",
    "cb_grid = model.grid_search(cb_params, cv=5, X=x, y=y, verbose=True)\n",
    "print (cb_grid[\"params\"])"
   ]
  },
  {
   "cell_type": "code",
   "execution_count": null,
   "id": "06df4478",
   "metadata": {},
   "outputs": [],
   "source": [
    "model = CatBoostClassifier(iterations=100,\n",
    "        learning_rate=cb_grid[\"params\"][\"learning_rate\"],\n",
    "        depth=cb_grid[\"params\"][\"depth\"],\n",
    "        l2_leaf_reg=cb_grid[\"params\"][\"l2_leaf_reg\"],\n",
    "        random_seed=17, loss_function=\"MultiClass\",\n",
    "        bootstrap_type=\"MVS\", custom_metric=\"WKappa\")"
   ]
  },
  {
   "cell_type": "code",
   "execution_count": null,
   "id": "a8399220",
   "metadata": {},
   "outputs": [],
   "source": [
    "model.fit(train_dataset)"
   ]
  },
  {
   "cell_type": "code",
   "execution_count": null,
   "id": "d54777a7",
   "metadata": {},
   "outputs": [],
   "source": [
    "del x \n",
    "del y"
   ]
  },
  {
   "cell_type": "markdown",
   "id": "34ebb34f",
   "metadata": {},
   "source": [
    "# Создаём тестовые данные"
   ]
  },
  {
   "cell_type": "markdown",
   "id": "0b587b2a",
   "metadata": {},
   "source": [
    "# U-net test"
   ]
  },
  {
   "cell_type": "code",
   "execution_count": null,
   "id": "b9b1e98b",
   "metadata": {},
   "outputs": [],
   "source": [
    "model_unet = load_model(\"E:/ittensive/ML Neural networks/Part 4/U-net/unet.fish.h5\", compile=False)"
   ]
  },
  {
   "cell_type": "code",
   "execution_count": null,
   "id": "7017a0a4",
   "metadata": {},
   "outputs": [],
   "source": [
    "prediction_unet = model_unet.predict_generator(load_data(test, 1), steps=len(test), verbose=1)"
   ]
  },
  {
   "cell_type": "code",
   "execution_count": null,
   "id": "f6953b4d",
   "metadata": {},
   "outputs": [],
   "source": [
    "prediction_unet = prediction_unet.astype('int8')"
   ]
  },
  {
   "cell_type": "code",
   "execution_count": null,
   "id": "aec5a5e3",
   "metadata": {},
   "outputs": [],
   "source": [
    "np.save('E:/ittensive/ML Neural networks/Part 4/FPN/fpn_test.npy', prediction_fpn)"
   ]
  },
  {
   "cell_type": "markdown",
   "id": "dedcccd6",
   "metadata": {},
   "source": [
    "# FPN test"
   ]
  },
  {
   "cell_type": "code",
   "execution_count": null,
   "id": "ab1f2c8d",
   "metadata": {},
   "outputs": [],
   "source": [
    "model_fpn = load_model(\"E:/ittensive/ML Neural networks/Part 4/FPN/fpn.fish.h5\", compile=False)"
   ]
  },
  {
   "cell_type": "code",
   "execution_count": null,
   "id": "0ae64c36",
   "metadata": {},
   "outputs": [],
   "source": [
    "prediction_fpn = model_fpn.predict_generator(load_data(test, 1), steps=len(test), verbose=1)"
   ]
  },
  {
   "cell_type": "code",
   "execution_count": null,
   "id": "ab14ca8d",
   "metadata": {},
   "outputs": [],
   "source": [
    "prediction_fpn = prediction_fpn.astype('int8')"
   ]
  },
  {
   "cell_type": "code",
   "execution_count": null,
   "id": "1cc6d024",
   "metadata": {},
   "outputs": [],
   "source": [
    "np.save('E:/ittensive/ML Neural networks/Part 4/FPN/fpn_test.npy', prediction_fpn)"
   ]
  },
  {
   "cell_type": "markdown",
   "id": "a7738433",
   "metadata": {},
   "source": [
    "# PSPnet test"
   ]
  },
  {
   "cell_type": "code",
   "execution_count": null,
   "id": "804ccab4",
   "metadata": {},
   "outputs": [],
   "source": [
    "model_pspnet = load_model(\"E:/ittensive/ML Neural networks/Part 4/PSPnet/pspnet.fish.h5\", compile=False)"
   ]
  },
  {
   "cell_type": "code",
   "execution_count": null,
   "id": "3b52e3ad",
   "metadata": {},
   "outputs": [],
   "source": [
    "prediction_pspnet = model_pspnet.predict_generator(load_data(test, 1), steps=len(test), verbose=1)"
   ]
  },
  {
   "cell_type": "code",
   "execution_count": null,
   "id": "124e461d",
   "metadata": {},
   "outputs": [],
   "source": [
    "prediction_pspnet = prediction_pspnet.astype('int8')"
   ]
  },
  {
   "cell_type": "code",
   "execution_count": null,
   "id": "6a8eb7f4",
   "metadata": {},
   "outputs": [],
   "source": [
    "np.save('E:/ittensive/ML Neural networks/Part 4/PSPnet/pspnet_test.npy', prediction_pspnet)"
   ]
  },
  {
   "cell_type": "code",
   "execution_count": null,
   "id": "88ed8009",
   "metadata": {},
   "outputs": [],
   "source": [
    "del prediction_unet\n",
    "del prediction_fpn\n",
    "del prediction_pspnet"
   ]
  },
  {
   "cell_type": "markdown",
   "id": "eb743e8d",
   "metadata": {},
   "source": [
    "# Добавления тестовых данных в CatBoost"
   ]
  },
  {
   "cell_type": "code",
   "execution_count": null,
   "id": "97fd2ac8",
   "metadata": {},
   "outputs": [],
   "source": [
    "test_unet = np.load('E:/ittensive/ML Neural networks/Part 4/U-net/unet_test.npy') \n",
    "test_unet = test_unet.astype('int8').flatten()"
   ]
  },
  {
   "cell_type": "code",
   "execution_count": null,
   "id": "c118445d",
   "metadata": {},
   "outputs": [],
   "source": [
    "test_fpn = np.load('E:/ittensive/ML Neural networks/Part 4/FPN/fpn_test.npy') \n",
    "test_fpn = test_fpn.astype('int8').flatten()"
   ]
  },
  {
   "cell_type": "code",
   "execution_count": null,
   "id": "dead1452",
   "metadata": {},
   "outputs": [],
   "source": [
    "test_pspnet = np.load('E:/ittensive/ML Neural networks/Part 4/PSPnet/pspnet_test.npy') \n",
    "test_pspnet = test_pspnet.astype('int8').flatten()"
   ]
  },
  {
   "cell_type": "code",
   "execution_count": null,
   "id": "55aeb62a",
   "metadata": {},
   "outputs": [],
   "source": [
    "test_list_1 = np.array([test_unet.reshape(109117440,1), test_fpn.reshape(109117440,1), \n",
    "                        test_pspnet.reshape(109117440,1)])\n",
    "test_list_1 = np.transpose(test_list_1)"
   ]
  },
  {
   "cell_type": "code",
   "execution_count": null,
   "id": "936e1b47",
   "metadata": {},
   "outputs": [],
   "source": [
    "del test_unet\n",
    "del test_fpn\n",
    "del test_pspnet"
   ]
  },
  {
   "cell_type": "markdown",
   "id": "05a6ea42",
   "metadata": {},
   "source": [
    "# Получаем итоговый результат"
   ]
  },
  {
   "cell_type": "code",
   "execution_count": null,
   "id": "a276d577",
   "metadata": {},
   "outputs": [],
   "source": [
    "target = model.predict(Pool(data=test_list_1[0]))"
   ]
  },
  {
   "cell_type": "code",
   "execution_count": null,
   "id": "fd423c7c",
   "metadata": {},
   "outputs": [],
   "source": [
    "target = target.astype('int8')"
   ]
  },
  {
   "cell_type": "code",
   "execution_count": null,
   "id": "6e0818a2",
   "metadata": {},
   "outputs": [],
   "source": [
    "np.save('E:/ittensive/ML Neural networks/Part 4/catboost/catboost.npy', target)"
   ]
  }
 ],
 "metadata": {
  "kernelspec": {
   "display_name": "Python 3 (ipykernel)",
   "language": "python",
   "name": "python3"
  },
  "language_info": {
   "codemirror_mode": {
    "name": "ipython",
    "version": 3
   },
   "file_extension": ".py",
   "mimetype": "text/x-python",
   "name": "python",
   "nbconvert_exporter": "python",
   "pygments_lexer": "ipython3",
   "version": "3.7.13"
  }
 },
 "nbformat": 4,
 "nbformat_minor": 5
}
