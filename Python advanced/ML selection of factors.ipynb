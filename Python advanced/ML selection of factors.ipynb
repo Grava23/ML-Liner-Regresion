{
 "cells": [
  {
   "cell_type": "markdown",
   "metadata": {},
   "source": [
    "### Подключение библиотек"
   ]
  },
  {
   "cell_type": "code",
   "execution_count": 11,
   "metadata": {},
   "outputs": [],
   "source": [
    "%matplotlib inline\n",
    "import pandas as pd\n",
    "import numpy as np\n",
    "from sklearn.preprocessing import MinMaxScaler\n",
    "from sklearn.linear_model import LinearRegression, Ridge, Lasso\n",
    "from sklearn.ensemble import ExtraTreesRegressor, RandomForestRegressor\n",
    "from sklearn.feature_selection import f_regression,mutual_info_regression\n",
    "from sklearn.decomposition import PCA,FastICA,TruncatedSVD,NMF\n",
    "from catboost import CatBoostRegressor\n",
    "import matplotlib.pyplot as plt\n",
    "\n"
   ]
  },
  {
   "cell_type": "code",
   "execution_count": 12,
   "metadata": {},
   "outputs": [],
   "source": [
    "def linear_extrapolation (x):\n",
    "    X = np.array(x.dropna().index.astype(int)).reshape(-1, 1)\n",
    "    Y = np.array(x.dropna().values).reshape(-1, 1)\n",
    "    if X.shape[0] > 0:\n",
    "        f = LinearRegression().fit(X, Y)\n",
    "        for i in x.index:\n",
    "            v = x.loc[i]\n",
    "            if v != v:\n",
    "                v = f.predict([[int(i)]])[0][0]\n",
    "                if v < 0:\n",
    "                    v = 0\n",
    "                x.loc[i] = v\n",
    "    return x\n",
    "def make_ensemble (x, y):\n",
    "    return {\n",
    "        \"ridge1\": np.argsort(np.abs(Ridge(alpha=0.1).fit(x, y).coef_))[::-1],\n",
    "        \"ridge3\": np.argsort(np.abs(Ridge(alpha=0.3).fit(x, y).coef_))[::-1],\n",
    "        \"ridge8\": np.argsort(np.abs(Ridge(alpha=0.8).fit(x, y).coef_))[::-1],\n",
    "        \"lasso1\": np.argsort(np.abs(Lasso(alpha=0.1).fit(x, y).coef_))[::-1],\n",
    "        \"lasso3\": np.argsort(np.abs(Lasso(alpha=0.3).fit(x, y).coef_))[::-1],\n",
    "        \"lasso8\": np.argsort(np.abs(Lasso(alpha=0.8).fit(x, y).coef_))[::-1]\n",
    "    }"
   ]
  },
  {
   "cell_type": "markdown",
   "metadata": {},
   "source": [
    "### Загрузка и очистка данных\n",
    "Линейно интерполируем пропуски, а начальные и конечные пропущенные данные экстраполируем по линейному закону. Удаляем пустые параметры"
   ]
  },
  {
   "cell_type": "code",
   "execution_count": 13,
   "metadata": {},
   "outputs": [],
   "source": [
    "data = pd.read_csv(\"E:/ittensive/ML selection of factors/Part 3/rosstat.csv\",\n",
    "                    na_values=[\"-\", \" - \",\"...\",\"…\",\" -\"])"
   ]
  },
  {
   "cell_type": "code",
   "execution_count": 14,
   "metadata": {},
   "outputs": [],
   "source": [
    "features = data[\"feature\"]\n",
    "data.drop(labels=[\"feature\"], inplace=True, axis=1)\n",
    "data.interpolate(method=\"linear\", axis=1, inplace=True)"
   ]
  },
  {
   "cell_type": "code",
   "execution_count": 15,
   "metadata": {},
   "outputs": [],
   "source": [
    "data = data.apply(linear_extrapolation, axis=1, result_type=\"expand\")"
   ]
  },
  {
   "cell_type": "code",
   "execution_count": 16,
   "metadata": {},
   "outputs": [],
   "source": [
    "data[\"feature\"] = features\n",
    "data.dropna(inplace=True)\n",
    "features = np.array(data[\"feature\"])"
   ]
  },
  {
   "cell_type": "code",
   "execution_count": 17,
   "metadata": {},
   "outputs": [],
   "source": [
    "data = data.T[:len(data.columns)-1].astype(\"float\")\n",
    "data.drop(labels=[\"2019\"], inplace=True)"
   ]
  },
  {
   "cell_type": "code",
   "execution_count": null,
   "metadata": {},
   "outputs": [],
   "source": [
    "data = pd.DataFrame(MinMaxScaler().fit_transform(data))\n",
    "data.columns = features"
   ]
  },
  {
   "cell_type": "markdown",
   "metadata": {},
   "source": [
    "### Отбор признаков\n",
    "Обучим массив моделей для отбора признаков"
   ]
  },
  {
   "cell_type": "code",
   "execution_count": 9,
   "metadata": {},
   "outputs": [],
   "source": [
    "y_column = \"ОЖИДАЕМАЯ ПРОДОЛЖИТЕЛЬНОСТЬ ЖИЗНИ ПРИ РОЖДЕНИИ 1.16.1. Все население (число лет)\"\n",
    "y_columns = [\"ОЖИДАЕМАЯ ПРОДОЛЖИТЕЛЬНОСТЬ ЖИЗНИ ПРИ РОЖДЕНИИ 1.16.2. Мужчины (число лет)\",\n",
    "            \"ОЖИДАЕМАЯ ПРОДОЛЖИТЕЛЬНОСТЬ ЖИЗНИ ПРИ РОЖДЕНИИ 1.16.3. Женщины (число лет)\"]\n",
    "y = data[y_column]\n",
    "x = data.drop(labels=[y_column], axis=1).drop(labels=y_columns, axis=1)"
   ]
  },
  {
   "cell_type": "markdown",
   "metadata": {},
   "source": [
    "# -------------------------------------------------------------------------------------------------------------"
   ]
  },
  {
   "cell_type": "markdown",
   "metadata": {},
   "source": [
    "# Первый набор"
   ]
  },
  {
   "cell_type": "code",
   "execution_count": 19,
   "metadata": {},
   "outputs": [],
   "source": [
    "super_features = np.zeros(len(features))\n",
    "subset_size = 50\n",
    "subset_power = 100\n",
    "subset_iter = 50\n",
    "subset_super = 20\n",
    "for k in range(subset_super):\n",
    "    subset_features = np.zeros(len(features))\n",
    "    for j in range(subset_iter):\n",
    "        features_ensemble = [0]*len(features)\n",
    "        for f_random in np.random.randint(len(features), size=[subset_power, subset_size]):\n",
    "            x_subset = data[features[f_random]].copy()\n",
    "            if y_column in features[f_random]:\n",
    "                x_subset = x_subset.drop(labels=[y_column], axis=1)\n",
    "            for y_column_ in y_columns:\n",
    "                if y_column_ in features[f_random]:\n",
    "                    x_subset = x_subset.drop(labels=[y_column_], axis=1)\n",
    "            ensemble = make_ensemble(x_subset, y)\n",
    "            for e in ensemble:\n",
    "                i = 0\n",
    "                for f in ensemble[e]:\n",
    "                    features_ensemble[f_random[f]] += subset_size - i\n",
    "                    i += 1\n",
    "        subset_features[np.argsort(features_ensemble)[::-1][:10]] += 1\n",
    "    super_features[np.argsort(subset_features)[::-1][:10]] += 1"
   ]
  },
  {
   "cell_type": "code",
   "execution_count": 20,
   "metadata": {},
   "outputs": [
    {
     "name": "stdout",
     "output_type": "stream",
     "text": [
      "[170 452 420 173 389]\n"
     ]
    }
   ],
   "source": [
    "print (np.argsort(super_features)[::-1][:5])"
   ]
  },
  {
   "cell_type": "code",
   "execution_count": 21,
   "metadata": {},
   "outputs": [
    {
     "name": "stdout",
     "output_type": "stream",
     "text": [
      "['6.3. ОБЩЕДОСТУПНЫЕ БИБЛИОТЕКИ 6.3.2. Численность пользователей (тысяч человек)'\n",
      " '4.9. ЧИСЛО ПРОФЕССИОНАЛЬНЫХ ОБРАЗОВАТЕЛЬНЫХ ОРГАНИЗАЦИЙ, ОСУЩЕСТВЛЯЮЩИХ ПОДГОТОВКУ КВАЛИФИЦИРОВАННЫХ РАБОЧИХ, СЛУЖАЩИХ в 2000-2015 гг. ;2) (на конец года)'\n",
      " '1.10. ОБЩИЕ КОЭФФИЦИЕНТЫ СМЕРТНОСТИ (число умерших на 1000 человек населения)'\n",
      " '6.5. ДЕТСКИЙ ОТДЫХ 6.5.2. Численность детей, отдохнувших в них за лето;2) (тысяч человек)'\n",
      " 'СТРОИТЕЛЬНАЯ ДЕЯТЕЛЬНОСТЬ 15.1. ЧИСЛО ДЕЙСТВУЮЩИХ СТРОИТЕЛЬНЫХ ОРГАНИЗАЦИЙ  (на конец года)']\n"
     ]
    }
   ],
   "source": [
    "print (features[np.argsort(super_features)[::-1][:5]])"
   ]
  },
  {
   "cell_type": "markdown",
   "metadata": {},
   "source": [
    "# Второй набор\n",
    "1. Важность признаков (feature importace) из решающих деревьев. \n",
    "2. Взаимная информация факторов (mutual information) и целевой переменной\n",
    "3. Корреляция (correlation) факторов и целевой переменной из модели линейная регрессии с L1 и L2 регулиризацией"
   ]
  },
  {
   "cell_type": "code",
   "execution_count": 22,
   "metadata": {},
   "outputs": [],
   "source": [
    "data = pd.read_csv(\"E:/ittensive/ML selection of factors/Part 3/rosstat.csv\",\n",
    "                    na_values=[\"-\", \" - \",\"...\",\"…\",\" -\"])"
   ]
  },
  {
   "cell_type": "code",
   "execution_count": 23,
   "metadata": {},
   "outputs": [],
   "source": [
    "features = data[\"feature\"]\n",
    "data.drop(labels=[\"feature\"], inplace=True, axis=1)\n",
    "data.interpolate(method=\"linear\", axis=1, inplace=True)"
   ]
  },
  {
   "cell_type": "code",
   "execution_count": 24,
   "metadata": {},
   "outputs": [],
   "source": [
    "data = data.apply(linear_extrapolation, axis=1, result_type=\"expand\")"
   ]
  },
  {
   "cell_type": "code",
   "execution_count": 25,
   "metadata": {},
   "outputs": [],
   "source": [
    "data[\"feature\"] = features\n",
    "data.dropna(inplace=True)\n",
    "features = data[\"feature\"]"
   ]
  },
  {
   "cell_type": "code",
   "execution_count": 26,
   "metadata": {},
   "outputs": [],
   "source": [
    "data = data.T[:len(data.columns)-1].astype(\"float\")\n",
    "data.drop(labels=[\"2019\"], inplace=True)"
   ]
  },
  {
   "cell_type": "code",
   "execution_count": 27,
   "metadata": {},
   "outputs": [],
   "source": [
    "data = pd.DataFrame(MinMaxScaler().fit_transform(data))\n",
    "data.columns = features"
   ]
  },
  {
   "cell_type": "code",
   "execution_count": 28,
   "metadata": {},
   "outputs": [],
   "source": [
    "y_column = \"ОЖИДАЕМАЯ ПРОДОЛЖИТЕЛЬНОСТЬ ЖИЗНИ ПРИ РОЖДЕНИИ 1.16.1. Все население (число лет)\"\n",
    "y_columns = [\"ОЖИДАЕМАЯ ПРОДОЛЖИТЕЛЬНОСТЬ ЖИЗНИ ПРИ РОЖДЕНИИ 1.16.2. Мужчины (число лет)\",\n",
    "            \"ОЖИДАЕМАЯ ПРОДОЛЖИТЕЛЬНОСТЬ ЖИЗНИ ПРИ РОЖДЕНИИ 1.16.3. Женщины (число лет)\"]\n",
    "y = data[y_column]\n",
    "x = data.drop(labels=[y_column], axis=1).drop(labels=y_columns, axis=1)"
   ]
  },
  {
   "cell_type": "markdown",
   "metadata": {},
   "source": [
    "### Важность признаков (feature importace) из решающих деревьев. "
   ]
  },
  {
   "cell_type": "code",
   "execution_count": 29,
   "metadata": {},
   "outputs": [],
   "source": [
    "rfr = RandomForestRegressor(n_estimators=250, random_state=17).fit(x, y)"
   ]
  },
  {
   "cell_type": "code",
   "execution_count": 30,
   "metadata": {},
   "outputs": [],
   "source": [
    "etr = ExtraTreesRegressor(n_estimators=250, random_state=17).fit(x, y)"
   ]
  },
  {
   "cell_type": "markdown",
   "metadata": {},
   "source": [
    "### Взаимная информация факторов (mutual information) и целевой переменной"
   ]
  },
  {
   "cell_type": "code",
   "execution_count": 31,
   "metadata": {},
   "outputs": [],
   "source": [
    "mi = mutual_info_regression(x, y)\n",
    "mi /= np.max(mi)"
   ]
  },
  {
   "cell_type": "markdown",
   "metadata": {},
   "source": [
    "### Для линейной регрессии последовательно проверим каждый признак и сохраним его корреляцию"
   ]
  },
  {
   "cell_type": "code",
   "execution_count": 32,
   "metadata": {},
   "outputs": [],
   "source": [
    "l1 = []\n",
    "for column in data.columns:\n",
    "    if column != y_column and column not in y_columns:\n",
    "        x = np.array(data[column]).reshape(-1, 1)\n",
    "        y = data[y_column]\n",
    "        model = Lasso(alpha=0.01).fit(x, y)\n",
    "        l1.append(model.score(x, y))\n",
    "l1 = np.array(l1)"
   ]
  },
  {
   "cell_type": "code",
   "execution_count": 33,
   "metadata": {},
   "outputs": [],
   "source": [
    "l2 = []\n",
    "for column in data.columns:\n",
    "    if column != y_column and column not in y_columns:\n",
    "        x = np.array(data[column]).reshape(-1, 1)\n",
    "        y = data[y_column]\n",
    "        model = Ridge(alpha=0.05).fit(x, y)\n",
    "        l2.append(model.score(x, y))\n",
    "l2 = np.array(l2)"
   ]
  },
  {
   "cell_type": "markdown",
   "metadata": {},
   "source": [
    "### Ансамбль моделей\n",
    "Просуммируем корреляцию, важность признаков и взаимную информацию"
   ]
  },
  {
   "cell_type": "code",
   "execution_count": 34,
   "metadata": {},
   "outputs": [],
   "source": [
    "ensemble_2 = rfr.feature_importances_ + etr.feature_importances_ + mi + l2 + l1"
   ]
  },
  {
   "cell_type": "code",
   "execution_count": 35,
   "metadata": {},
   "outputs": [
    {
     "data": {
      "text/plain": [
       "array(['13.2. ОБЪЕМ ОТГРУЖЕННЫХ ТОВАРОВ СОБСТВЕННОГО ПРОИЗВОДСТВА, ВЫПОЛНЕННЫХ РАБОТ И УСЛУГ СОБСТВЕННЫМИ СИЛАМИ ПО ВИДАМ ЭКОНОМИЧЕСКОЙ ДЕЯТЕЛЬНОСТИ 13.2.4.  «Обрабатывающие производства» в соответствии с ОКВЭД2 (в фактически действовавших ценах; миллионов рублей)',\n",
       "       '18.6. ИСПОЛЬЗОВАНИЕ ПЕРСОНАЛЬНЫХ КОМПЬЮТЕРОВ И СЕТИ ИНТЕРНЕТ В ДОМАШНИХ ХОЗЯЙСТВАХ  18.6.2. Удельный вес домашних хозяйств, имевших доступ к сети Интернет2) (по данным выборочного обследования населения по вопросам использования ИКТ; в процентах от общего числа домашних хозяйств соответствующего субъекта Российской Федерации)',\n",
       "       '18.6. ИСПОЛЬЗОВАНИЕ ПЕРСОНАЛЬНЫХ КОМПЬЮТЕРОВ И СЕТИ ИНТЕРНЕТ В ДОМАШНИХ ХОЗЯЙСТВАХ  18.6.3. Удельный вес домашних хозяйств, имевших широкополосный доступ к сети Интернет (по данным выборочного обследования населения по вопросам использования ИКТ; в процентах от общего числа домашних хозяйств соответствующего субъекта Российской Федерации)',\n",
       "       '12.12. ИТОГИ ВЫБОРОЧНЫХ ОБСЛЕДОВАНИЙ 12.12.3. Объем выручки от продажи товаров, продукции, работ, услуг',\n",
       "       '3.4. СРЕДНЕМЕСЯЧНАЯ НАЧИСЛЕННАЯ ЗАРАБОТНАЯ ПЛАТА РАБОТНИКОВ ОРГАНОВ МЕСТНОГО САМОУПРАВЛЕНИЯ;2) 3.4.2. В представительных органах муниципальных образований'],\n",
       "      dtype=object)"
      ]
     },
     "execution_count": 35,
     "metadata": {},
     "output_type": "execute_result"
    }
   ],
   "source": [
    "features[np.argsort(ensemble_2)[::-1][:5]].values"
   ]
  },
  {
   "cell_type": "markdown",
   "metadata": {},
   "source": [
    "# Третий набор\n",
    "* метод главных компонент (PCA) - 3 модели,\n",
    "* сингулярное разложение (SVD) - 3 модели,\n",
    "* анализ независимых компонент (ICA) - 3 модели,\n",
    "* матричную факторизацию (NMF) - 3 модели."
   ]
  },
  {
   "cell_type": "code",
   "execution_count": 36,
   "metadata": {},
   "outputs": [],
   "source": [
    "y_column = \"ОЖИДАЕМАЯ ПРОДОЛЖИТЕЛЬНОСТЬ ЖИЗНИ ПРИ РОЖДЕНИИ 1.16.1. Все население (число лет)\"\n",
    "y_columns = [\"ОЖИДАЕМАЯ ПРОДОЛЖИТЕЛЬНОСТЬ ЖИЗНИ ПРИ РОЖДЕНИИ 1.16.2. Мужчины (число лет)\",\n",
    "            \"ОЖИДАЕМАЯ ПРОДОЛЖИТЕЛЬНОСТЬ ЖИЗНИ ПРИ РОЖДЕНИИ 1.16.3. Женщины (число лет)\"]\n",
    "y = data[y_column]\n",
    "x = data.drop(labels=[y_column], axis=1).drop(labels=y_columns, axis=1)"
   ]
  },
  {
   "cell_type": "markdown",
   "metadata": {},
   "source": [
    "### Метод главных компонент (PCA) - 3 модели"
   ]
  },
  {
   "cell_type": "code",
   "execution_count": 37,
   "metadata": {},
   "outputs": [],
   "source": [
    "pca5 = PCA(n_components=5, random_state=42).fit(x)\n",
    "pca10 = PCA(n_components=10, random_state=42).fit(x)\n",
    "pca18 = PCA(n_components=18, random_state=42).fit(x)"
   ]
  },
  {
   "cell_type": "markdown",
   "metadata": {},
   "source": [
    "### Сингулярное разложение (SVD) - 3 модели"
   ]
  },
  {
   "cell_type": "code",
   "execution_count": 38,
   "metadata": {},
   "outputs": [],
   "source": [
    "svd5 = TruncatedSVD(n_components=5, random_state=42, n_iter=100).fit(x)\n",
    "svd10 = TruncatedSVD(n_components=10, random_state=42, n_iter=100).fit(x)\n",
    "svd18 = TruncatedSVD(n_components=18, random_state=42, n_iter=100).fit(x)"
   ]
  },
  {
   "cell_type": "markdown",
   "metadata": {},
   "source": [
    "### Анализ независимых компонент (ICA) - 3 модели"
   ]
  },
  {
   "cell_type": "code",
   "execution_count": 39,
   "metadata": {},
   "outputs": [
    {
     "name": "stderr",
     "output_type": "stream",
     "text": [
      "E:\\anaconda\\envs\\nerual_networks\\lib\\site-packages\\sklearn\\decomposition\\_fastica.py:119: ConvergenceWarning: FastICA did not converge. Consider increasing tolerance or the maximum number of iterations.\n",
      "  ConvergenceWarning,\n"
     ]
    }
   ],
   "source": [
    "ica5 = FastICA(n_components=5, random_state=42).fit(x)\n",
    "ica10 = FastICA(n_components=10, random_state=42).fit(x)\n",
    "ica18 = FastICA(n_components=18, random_state=42).fit(x)"
   ]
  },
  {
   "cell_type": "markdown",
   "metadata": {},
   "source": [
    "### Матричную факторизацию (NMF) - 3 модели"
   ]
  },
  {
   "cell_type": "code",
   "execution_count": 40,
   "metadata": {},
   "outputs": [
    {
     "name": "stderr",
     "output_type": "stream",
     "text": [
      "E:\\anaconda\\envs\\nerual_networks\\lib\\site-packages\\sklearn\\decomposition\\_nmf.py:294: FutureWarning: The 'init' value, when 'init=None' and n_components is less than n_samples and n_features, will be changed from 'nndsvd' to 'nndsvda' in 1.1 (renaming of 0.26).\n",
      "  FutureWarning,\n",
      "E:\\anaconda\\envs\\nerual_networks\\lib\\site-packages\\sklearn\\decomposition\\_nmf.py:294: FutureWarning: The 'init' value, when 'init=None' and n_components is less than n_samples and n_features, will be changed from 'nndsvd' to 'nndsvda' in 1.1 (renaming of 0.26).\n",
      "  FutureWarning,\n",
      "E:\\anaconda\\envs\\nerual_networks\\lib\\site-packages\\sklearn\\decomposition\\_nmf.py:294: FutureWarning: The 'init' value, when 'init=None' and n_components is less than n_samples and n_features, will be changed from 'nndsvd' to 'nndsvda' in 1.1 (renaming of 0.26).\n",
      "  FutureWarning,\n"
     ]
    }
   ],
   "source": [
    "nmf5 = NMF(n_components=5, random_state=42, max_iter=1000).fit(x)\n",
    "nmf10 = NMF(n_components=10, random_state=42, max_iter=1000).fit(x)\n",
    "nmf18 = NMF(n_components=18, random_state=42, max_iter=5000).fit(x)"
   ]
  },
  {
   "cell_type": "markdown",
   "metadata": {},
   "source": [
    "### Ансамбль моделей\n",
    "Отнормируем каждый набор важности факторов построчно через MinMax, затем просуммируем важность по всем моделям"
   ]
  },
  {
   "cell_type": "code",
   "execution_count": 41,
   "metadata": {},
   "outputs": [],
   "source": [
    "ensemble_3 = np.zeros(len(x.columns))"
   ]
  },
  {
   "cell_type": "code",
   "execution_count": 42,
   "metadata": {},
   "outputs": [
    {
     "name": "stdout",
     "output_type": "stream",
     "text": [
      "[[0.85785658 0.90516015 0.91595028 ... 0.58885223 0.4328719  0.42671716]\n",
      " [0.35707202 0.47843557 0.45876395 ... 0.04614578 0.19769678 0.09131371]\n",
      " [0.48682805 0.4758213  0.50294996 ... 0.36127293 0.15709916 0.18011024]\n",
      " [0.35840713 0.49004016 0.5079901  ... 0.52040737 0.35170694 0.27873669]\n",
      " [0.59229627 0.42792351 0.49410853 ... 0.44426293 0.53137184 0.29081794]]\n"
     ]
    }
   ],
   "source": [
    "a = MinMaxScaler().fit_transform(np.array(pca5.components_).T)\n",
    "print (a.T)"
   ]
  },
  {
   "cell_type": "code",
   "execution_count": 43,
   "metadata": {},
   "outputs": [],
   "source": [
    "for i,m in enumerate([pca5, pca10, pca18, svd5, svd10, svd18, ica5, ica10, ica18, nmf5, nmf10, nmf18]):\n",
    "    a = MinMaxScaler().fit_transform(np.array(m.components_).T)\n",
    "    for c in a.T:\n",
    "        if i == 0 or i == 3:\n",
    "            k = 0.2\n",
    "        elif i == 1 or i == 4:\n",
    "            k = 0.4\n",
    "        elif i == 2 or i == 5:\n",
    "            k = 0.6\n",
    "        else:\n",
    "            k = 1\n",
    "        ensemble_2 += k*np.abs(c)"
   ]
  },
  {
   "cell_type": "code",
   "execution_count": 44,
   "metadata": {
    "scrolled": true
   },
   "outputs": [
    {
     "data": {
      "text/plain": [
       "array(['4.26. ПРИЕМ НА ОБУЧЕНИЕ ПО ПРОГРАММАМ БАКАЛАВРИАТА, СПЕЦИАЛИТЕТА, МАГИСТРАТУРЫ  (тысяч человек)',\n",
       "       'ЧИСЛЕННОСТЬ РАБОТНИКОВ ОРГАНОВ МЕСТНОГО САМОУПРАВЛЕНИЯ 2.17.1. Всего',\n",
       "       'ЗАНЯТОСТЬ И БЕЗРАБОТИЦА 2.6. ЧИСЛЕННОСТЬ БЕЗРАБОТНЫХ (по данным выборочных обследований рабочей силы; тысяч человек)',\n",
       "       'ЗАНЯТОСТЬ И БЕЗРАБОТИЦА 2.7. ЧИСЛЕННОСТЬ ЗАРЕГИСТРИРОВАННЫХ БЕЗРАБОТНЫХ',\n",
       "       'ЗАНЯТОСТЬ И БЕЗРАБОТИЦА 2.8. ЧИСЛЕННОСТЬ НЕ ЗАНЯТЫХ ТРУДОВОЙ ДЕЯТЕЛЬНОСТЬЮ ГРАЖДАН, ОБРАТИВШИХСЯ ЗА СОДЕЙСТВИЕМ В ПОИСКЕ ПОДХОДЯЩЕЙ РАБОТЫ В ОРГАНЫ СЛУЖБЫ ЗАНЯТОСТИ НАСЕЛЕНИЯ (тысяч человек)',\n",
       "       'УРОВЕНЬ БЕЗРАБОТИЦЫ 2.9. 1. Уровень безработицы',\n",
       "       'УРОВЕНЬ БЕЗРАБОТИЦЫ 2.9.2. Уровень  зарегистрированной безработицы',\n",
       "       'ЗАНЯТОСТЬ И БЕЗРАБОТИЦА 2.10. ПОТРЕБНОСТЬ В РАБОТНИКАХ, ЗАЯВЛЕННАЯ РАБОТОДАТЕЛЯМИ В ОРГАНЫ СЛУЖБЫ ЗАНЯТОСТИ НАСЕЛЕНИЯ (на конец года; человек)',\n",
       "       'ЗАНЯТОСТЬ И БЕЗРАБОТИЦА 2.11. НАГРУЗКА НЕЗАНЯТОГО НАСЕЛЕНИЯ, СОСТОЯЩЕГО НА РЕГИСТРАЦИОННОМ УЧЕТЕ В ОРГАНАХ СЛУЖБЫ ЗАНЯТОСТИ НАСЕЛЕНИЯ, В РАСЧЕТЕ НА ОДНУ ЗАЯВЛЕННУЮ ВАКАНСИЮ (на конец года; человек)',\n",
       "       'ЗАНЯТОСТЬ И БЕЗРАБОТИЦА 2.12. ЧИСЛЕННОСТЬ ИНОСТРАННЫХ ГРАЖДАН, ИМЕВШИХ ДЕЙСТВУЮЩЕЕ РАЗРЕШЕНИЕ НА РАБОТУ;2) (человек)'],\n",
       "      dtype=object)"
      ]
     },
     "execution_count": 44,
     "metadata": {},
     "output_type": "execute_result"
    }
   ],
   "source": [
    "features[np.argsort(np.abs(ensemble_3))[::-1][:10]].values"
   ]
  },
  {
   "cell_type": "code",
   "execution_count": 45,
   "metadata": {},
   "outputs": [
    {
     "data": {
      "text/plain": [
       "array([58.71483797, 57.41681412, 55.57416311, 55.45915974, 55.37821787,\n",
       "       55.11927042, 55.00386144, 54.46576832, 54.31882339, 54.29021642])"
      ]
     },
     "execution_count": 45,
     "metadata": {},
     "output_type": "execute_result"
    }
   ],
   "source": [
    "ensemble_2[np.argsort(np.abs(ensemble_2))[::-1][:10]]"
   ]
  },
  {
   "cell_type": "markdown",
   "metadata": {},
   "source": [
    "# Определение продолжительности жизни"
   ]
  },
  {
   "cell_type": "code",
   "execution_count": 63,
   "metadata": {},
   "outputs": [],
   "source": [
    "data = pd.read_csv(\"E:/ittensive/ML selection of factors/Part 3/rosstat.csv\",\n",
    "                    na_values=[\"-\", \" - \",\"...\",\"…\",\" -\"])"
   ]
  },
  {
   "cell_type": "code",
   "execution_count": 64,
   "metadata": {},
   "outputs": [],
   "source": [
    "features = data[\"feature\"]\n",
    "data.drop(labels=[\"feature\"], inplace=True, axis=1)\n",
    "data.interpolate(method=\"linear\", axis=1, inplace=True)"
   ]
  },
  {
   "cell_type": "code",
   "execution_count": 65,
   "metadata": {},
   "outputs": [],
   "source": [
    "data = data.apply(linear_extrapolation, axis=1, result_type=\"expand\")"
   ]
  },
  {
   "cell_type": "code",
   "execution_count": 66,
   "metadata": {},
   "outputs": [],
   "source": [
    "data[\"feature\"] = features\n",
    "data.dropna(inplace=True)\n",
    "features = np.array(data[\"feature\"])"
   ]
  },
  {
   "cell_type": "code",
   "execution_count": 67,
   "metadata": {},
   "outputs": [],
   "source": [
    "data = data.T[:len(data.columns)-1].astype(\"float\")\n",
    "data.drop(labels=[\"2019\"], inplace=True)"
   ]
  },
  {
   "cell_type": "code",
   "execution_count": 68,
   "metadata": {},
   "outputs": [],
   "source": [
    "scaler = MinMaxScaler()\n",
    "data = pd.DataFrame(scaler.fit_transform(data))\n",
    "data.columns = features"
   ]
  },
  {
   "cell_type": "code",
   "execution_count": 69,
   "metadata": {},
   "outputs": [],
   "source": [
    "y_column = \"ОЖИДАЕМАЯ ПРОДОЛЖИТЕЛЬНОСТЬ ЖИЗНИ ПРИ РОЖДЕНИИ 1.16.1. Все население (число лет)\"\n",
    "y_columns = [\"ОЖИДАЕМАЯ ПРОДОЛЖИТЕЛЬНОСТЬ ЖИЗНИ ПРИ РОЖДЕНИИ 1.16.2. Мужчины (число лет)\",\n",
    "            \"ОЖИДАЕМАЯ ПРОДОЛЖИТЕЛЬНОСТЬ ЖИЗНИ ПРИ РОЖДЕНИИ 1.16.3. Женщины (число лет)\"]\n",
    "y = data[y_column]\n",
    "x = data[[features[i] for i in [170,160,451,38,452]]]"
   ]
  },
  {
   "cell_type": "markdown",
   "metadata": {},
   "source": [
    "Сдвинем факторы на год назад: чтобы предсказывать по значениям текущего года - следующий"
   ]
  },
  {
   "cell_type": "code",
   "execution_count": 70,
   "metadata": {},
   "outputs": [],
   "source": [
    "x_ = x[:-1]\n",
    "y_ = np.array(y[1:])"
   ]
  },
  {
   "cell_type": "markdown",
   "metadata": {},
   "source": [
    "### Случайный лес"
   ]
  },
  {
   "cell_type": "code",
   "execution_count": 71,
   "metadata": {},
   "outputs": [],
   "source": [
    "ensemble_rf = []\n",
    "for i in range (100):\n",
    "    ensemble_rf.append(RandomForestRegressor(n_estimators=50, random_state=i).fit(x_, y_))"
   ]
  },
  {
   "cell_type": "markdown",
   "metadata": {},
   "source": [
    "### Сверхслучайные деревья"
   ]
  },
  {
   "cell_type": "code",
   "execution_count": 72,
   "metadata": {},
   "outputs": [],
   "source": [
    "ensemble_et = []\n",
    "for i in range (100):\n",
    "    ensemble_et.append(ExtraTreesRegressor(n_estimators=50, random_state=i).fit(x_, y_))"
   ]
  },
  {
   "cell_type": "markdown",
   "metadata": {},
   "source": [
    "### CatBoost"
   ]
  },
  {
   "cell_type": "code",
   "execution_count": 73,
   "metadata": {},
   "outputs": [],
   "source": [
    "ensemble_cb = []\n",
    "for i in range (100):\n",
    "    ensemble_cb.append(CatBoostRegressor(iterations=20, depth=16, random_state=i, verbose=False).fit(x_, y_))"
   ]
  },
  {
   "cell_type": "markdown",
   "metadata": {},
   "source": [
    "### Формирование предсказания на 2019 год"
   ]
  },
  {
   "cell_type": "code",
   "execution_count": 74,
   "metadata": {},
   "outputs": [],
   "source": [
    "prediction = 0\n",
    "for i in range (100):\n",
    "    prediction += ensemble_rf[i].predict(x[-1:])\n",
    "    prediction += ensemble_et[i].predict(x[-1:])\n",
    "    prediction += ensemble_cb[i].predict(x[-1:])\n",
    "prediction /= 300"
   ]
  },
  {
   "cell_type": "code",
   "execution_count": 75,
   "metadata": {},
   "outputs": [
    {
     "name": "stdout",
     "output_type": "stream",
     "text": [
      "[0.97864546]\n"
     ]
    }
   ],
   "source": [
    "print (prediction)"
   ]
  },
  {
   "cell_type": "code",
   "execution_count": 78,
   "metadata": {},
   "outputs": [],
   "source": [
    "data_predict = data.copy()\n",
    "data_predict[y_column] = np.ones(len(data_predict)) * prediction\n",
    "data_predict = scaler.inverse_transform(data_predict)\n",
    "answer = data_predict[0][np.where(features==y_column)][0]"
   ]
  },
  {
   "cell_type": "code",
   "execution_count": 81,
   "metadata": {},
   "outputs": [
    {
     "name": "stdout",
     "output_type": "stream",
     "text": [
      "ожидаемоя продолжительность жизни: 74 года\n"
     ]
    }
   ],
   "source": [
    "print('ожидаемоя продолжительность жизни:', round(answer), 'года')"
   ]
  }
 ],
 "metadata": {
  "kernelspec": {
   "display_name": "Python 3 (ipykernel)",
   "language": "python",
   "name": "python3"
  },
  "language_info": {
   "codemirror_mode": {
    "name": "ipython",
    "version": 3
   },
   "file_extension": ".py",
   "mimetype": "text/x-python",
   "name": "python",
   "nbconvert_exporter": "python",
   "pygments_lexer": "ipython3",
   "version": "3.7.13"
  }
 },
 "nbformat": 4,
 "nbformat_minor": 4
}
